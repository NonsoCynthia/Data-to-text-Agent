{
 "cells": [
  {
   "cell_type": "code",
   "execution_count": 1,
   "metadata": {},
   "outputs": [
    {
     "name": "stderr",
     "output_type": "stream",
     "text": [
      "/home/chinonso/anaconda3/envs/lang2/lib/python3.10/site-packages/tqdm/auto.py:21: TqdmWarning: IProgress not found. Please update jupyter and ipywidgets. See https://ipywidgets.readthedocs.io/en/stable/user_install.html\n",
      "  from .autonotebook import tqdm as notebook_tqdm\n"
     ]
    }
   ],
   "source": [
    "import os\n",
    "import json\n",
    "from typing import List, Literal, Optional, Text, Union, Dict, Any\n",
    "from IPython.display import Image, display\n",
    "from langchain_core.runnables.graph_mermaid import MermaidDrawMethod\n",
    "from agents.agents_modules.workflow import build_agent_workflow\n",
    "from agents.dataloader import load_dataset_by_name, extract_example\n",
    "from agents.utilities.agent_utils import save_result_to_json\n",
    "from agents.llm_model import UnifiedModel, model_name\n",
    "from agents.agent_prompts import END_TO_END_GENERATION_PROMPT, input_prompt, CONTENT_SELECTION_PROMPT"
   ]
  },
  {
   "cell_type": "code",
   "execution_count": 3,
   "metadata": {},
   "outputs": [],
   "source": [
    "provider = \"openai\" #ollama, openai, hf, aixplain\n",
    "process_flow = build_agent_workflow(provider=provider)\n",
    "# display(Image(process_flow.get_graph(xray=True).draw_mermaid_png()))"
   ]
  },
  {
   "cell_type": "code",
   "execution_count": 16,
   "metadata": {},
   "outputs": [
    {
     "name": "stdout",
     "output_type": "stream",
     "text": [
      "Loading dataset: webnlg\n",
      "Size: 1779\n",
      "========== INPUT DATA ==========\n",
      "['Mexico | currency | Mexican_peso', 'Mexico | demonym | Mexicans', 'Bionico | course | Dessert', 'Bionico | ingredient | Granola', 'Dessert | dishVariation | Sandesh_(confectionery)', 'Bionico | country | Mexico']\n",
      "\n",
      "========== TARGET (if any) ==========\n",
      "Mexicans inhabit Mexico, where the currency is the peso. Bionico is a food found in Mexico that requires granola as one of its ingredients, and is a dessert like Sandesh.\n",
      "\n",
      "========== GROUND TRUTH REFERENCES ==========\n",
      "\n"
     ]
    }
   ],
   "source": [
    "# Exclude turku_hockey and conversational_weather\n",
    "# totto, webnlg, dart, rotowire, sportsett_basketball, mlb\n",
    "name = \"webnlg\"  \n",
    "num = 1750 # Sample id\n",
    "set = \"test\"\n",
    "\n",
    "data = load_dataset_by_name(name)\n",
    "dataset = data[set]\n",
    "sample = extract_example(name, data[set][num])\n",
    "data = sample.get('input', '')\n",
    "ground_truth = sample.get('references', \"\")\n",
    "target = sample.get('target', \"\")\n",
    "\n",
    "print(f\"Size: {len(dataset)}\")\n",
    "print(\"========== INPUT DATA ==========\")\n",
    "print(f\"{data}\\n\")\n",
    "print(\"========== TARGET (if any) ==========\")\n",
    "print(f\"{target}\\n\")\n",
    "print(\"========== GROUND TRUTH REFERENCES ==========\")\n",
    "print(f\"{ground_truth}\")"
   ]
  },
  {
   "cell_type": "code",
   "execution_count": 10,
   "metadata": {},
   "outputs": [
    {
     "name": "stdout",
     "output_type": "stream",
     "text": [
      "[\n",
      "  \"Location (Hypermarcas): Brazil\",\n",
      "  \"Product (Hypermarcas): Drugs\",\n",
      "  \"Founding Date (Hypermarcas): 2001-01-01\"\n",
      "]\n"
     ]
    }
   ],
   "source": [
    "conf = model_name.get(provider.lower())\n",
    "llm = UnifiedModel(provider=provider, **conf).model_(CONTENT_SELECTION_PROMPT)\n",
    "CS_prediction = llm.invoke({'input': data}).content.strip()\n",
    "print(CS_prediction)"
   ]
  },
  {
   "cell_type": "code",
   "execution_count": 11,
   "metadata": {},
   "outputs": [
    {
     "name": "stdout",
     "output_type": "stream",
     "text": [
      "\n",
      "\n",
      "\u001b[1m> Entering new AgentExecutor chain...\u001b[0m\n",
      "\u001b[32;1m\u001b[1;3mAction:\n",
      "```\n",
      "{\n",
      "  \"action\": \"Final Answer\",\n",
      "  \"action_input\": [\n",
      "    \"Location (Hypermarcas): Brazil\",\n",
      "    \"Founding Date (Hypermarcas): 2001-01-01\",\n",
      "    \"Product (Hypermarcas): Drugs\"\n",
      "  ]\n",
      "}\n",
      "```\u001b[0m\n",
      "\n",
      "\u001b[1m> Finished chain.\u001b[0m\n",
      "\n",
      "\n",
      "\u001b[1m> Entering new AgentExecutor chain...\u001b[0m\n",
      "\u001b[32;1m\u001b[1;3mAction:\n",
      "```\n",
      "{\n",
      "  \"action\": \"Final Answer\",\n",
      "  \"action_input\": \"<paragraph>\\n<snt>\\nLocation (Hypermarcas): Brazil  \\nFounding Date (Hypermarcas): 2001-01-01\\n</snt>\\n<snt>\\nProduct (Hypermarcas): Drugs\\n</snt>\\n</paragraph>\"\n",
      "}\n",
      "```\u001b[0m\n",
      "\n",
      "\u001b[1m> Finished chain.\u001b[0m\n",
      "\n",
      "\n",
      "\u001b[1m> Entering new AgentExecutor chain...\u001b[0m\n",
      "\u001b[32;1m\u001b[1;3m{\n",
      "  \"action\": \"Final Answer\",\n",
      "  \"action_input\": \"Hypermarcas is located in Brazil and was founded on January 1, 2001. The company produces drugs.\"\n",
      "}\u001b[0m\n",
      "\n",
      "\u001b[1m> Finished chain.\u001b[0m\n"
     ]
    }
   ],
   "source": [
    "query = f\"\"\"You are an agent designed to generate text from data for a data-to-text natural language generation. You can be provided data in the form of xml, table, meaning representations, graphs etc. \n",
    "Your task is to generate the appropriate text given the data information without omitting any field or adding extra information in essence called hallucination.\n",
    "Here is the data, generate text using the provided data:\n",
    "{CS_prediction}\"\"\"\n",
    "\n",
    "initial_state = {\n",
    "    \"user_prompt\": query,\n",
    "    \"raw_data\": data,\n",
    "    \"history_of_steps\": [],\n",
    "    \"final_response\": \"\",\n",
    "    \"next_agent\": \"\",\n",
    "    \"next_agent_payload\": \"\",\n",
    "    \"current_step\": 0,\n",
    "    \"iteration_count\": 0,\n",
    "    \"max_iteration\": 100,\n",
    "}\n",
    "\n",
    "state = process_flow.invoke(initial_state, config={\"recursion_limit\": initial_state[\"max_iteration\"]})\n",
    "prediction = state['final_response']"
   ]
  },
  {
   "cell_type": "code",
   "execution_count": 12,
   "metadata": {},
   "outputs": [
    {
     "name": "stdout",
     "output_type": "stream",
     "text": [
      "[SAVED] Agent result saved to: results/webnlg/webnlg_1002.json\n"
     ]
    }
   ],
   "source": [
    "save_result_to_json(state, dataset_folder=f\"{name}\", filename=f\"{name}_{num}.json\")\n",
    "# save_result_to_json(state, filename=f\"webnlg_long.json\")"
   ]
  },
  {
   "cell_type": "code",
   "execution_count": 13,
   "metadata": {},
   "outputs": [
    {
     "name": "stdout",
     "output_type": "stream",
     "text": [
      "Hypermarcas is located in Brazil and was founded on January 1, 2001. The company produces drugs.\n"
     ]
    }
   ],
   "source": [
    "print(prediction)"
   ]
  },
  {
   "cell_type": "code",
   "execution_count": 27,
   "metadata": {},
   "outputs": [
    {
     "data": {
      "text/plain": [
       "''"
      ]
     },
     "execution_count": 27,
     "metadata": {},
     "output_type": "execute_result"
    }
   ],
   "source": [
    "ground_truth"
   ]
  },
  {
   "cell_type": "code",
   "execution_count": 28,
   "metadata": {},
   "outputs": [
    {
     "data": {
      "text/plain": [
       "\"If Celtics fans still had any doubts about what kind of player Jeff Green is , those doubts had to have been put to rest after Monday night . Unfortunately for the Celts , despite Green 's career night and an excellent team - wide performance in the absence of Kevin Garnett , the opponent was the Miami Heat , who came in winners of 22 consecutive games . And LeBron James was n't ready to let that streak end . James had 37 points , 12 assists , seven rebounds , two steals and two blocks to lead the Heat , who trailed by 17 in the first half and 13 in the fourth quarter , to a 105 - 103 win , their 23rd straight . James untied the game by burying a 20 - footer with 10 seconds left to seal it . Green had a career high 43 points , 38 in the first three quarters , on an amazing 14 - of - 21 shooting , and added seven rebounds , four blocks and a couple of steals . It was the highest scoring regular season game from any Celtic since 2007 , the highest scoring game against the Heat all year and the first 40 - point , regular season game by a Celtic other than Paul Pierce since Antoine Walker in 2001 . But when he was rested for four minutes in the fourth , the Heat went on an 18 - 4 run to seize the momentum and he Celtics could n't recover . *NEWPARAGRAPH* Pierce had 17 points , eight rebounds and eight assists while Courtney Lee added 13 points and Jason Terry nine off the bench for the C 's who nearly pulled it out despite KG sitting out his second straight game , this one because of the flu . The Celtics , who were excellent on defense most of the game and played with tremendous energy throughout , missed nine of their 24 free throw attempts . They also got looks right at the rim on two of their last three possessions but could n't finish either of them . It was another playoff - esque game from these two teams , who comprise the best rivalry in the NBA at the moment . For more on this one from the Heat perspective , hit up Hot Hot Hoops .\""
      ]
     },
     "execution_count": 28,
     "metadata": {},
     "output_type": "execute_result"
    }
   ],
   "source": [
    "target"
   ]
  },
  {
   "cell_type": "code",
   "execution_count": null,
   "metadata": {},
   "outputs": [],
   "source": [
    "# from agents.evaluator import evaluate_single\n",
    "\n",
    "# scores = evaluate_single(target, prediction, data)\n",
    "# for metric, score in scores.items():\n",
    "#     print(f\"{metric}: {score:.4f}\")"
   ]
  },
  {
   "cell_type": "code",
   "execution_count": null,
   "metadata": {},
   "outputs": [],
   "source": [
    "# FINISHING TO COMPUTE BLEU...\n",
    "#   BLEU    BLEU NLTK\n",
    "# ------  -----------\n",
    "#  27.18         0.26\n",
    "\n",
    "#   chrF++\n",
    "# --------\n",
    "#     0.61\n",
    "\n",
    "#   TER\n",
    "# -----\n",
    "#  0.71"
   ]
  },
  {
   "cell_type": "code",
   "execution_count": null,
   "metadata": {},
   "outputs": [],
   "source": [
    "# data = \"\"\"[['Lagos', 'areaLand', '999600000.0'],\n",
    "#  ['Lagos', 'areaMetro', '2706700000.0'],\n",
    "#  ['Lagos', 'areaUrban', '907000000.0'],\n",
    "#  ['Lagos', 'populationMetro', '21320000'],\n",
    "#  ['Lagos', 'populationMetroDensity', '7759.0'],\n",
    "#  ['Lagos', 'areaMetro', '2706.7'],\n",
    "#  ['Lagos', 'areaTotal', '1171.28'],\n",
    "#  ['Lagos', 'areaUrban', '907.0'],\n",
    "#  ['Lagos', 'populationDensity', '6871.0'],\n",
    "#  ['Lagos', 'populationMetroDensity', '7759.0'],\n",
    "#  ['Lagos', 'areaCode', '010'],\n",
    "#  ['Lagos', 'areaTotal', '1171280000.0'],\n",
    "#  ['Lagos', 'demonym', 'Lagosian'],\n",
    "#  ['Lagos', 'motto', 'Èkó ò ní bàjé o!'],\n",
    "#  ['Lagos', 'populationDensity', '6871.0'],\n",
    "#  ['Lagos', 'populationTotal', '8048430'],\n",
    "#  ['Lagos', 'utcOffset', '+1'],\n",
    "#  ['Lagos', 'country', 'Nigeria'],\n",
    "#  ['Lagos', 'founder', 'Awori_tribe'],\n",
    "#  ['Lagos', 'timeZone', 'West_Africa_Time'],\n",
    "#  ['Benfruit_Plant', 'location', 'Lagos'],\n",
    "#  ['Nigerian_Institute_of_Management', 'location', 'Lagos'],\n",
    "#  ['Before_30', 'location', 'Lagos'],\n",
    "#  ['Reduction_of_Lagos', 'place', 'Lagos'],\n",
    "#  [\"Cait_O'Riordan\", 'birthPlace', 'Lagos'],\n",
    "#  ['Candy_Augustine_Agbane', 'birthPlace', 'Lagos'],\n",
    "#  ['Carol_King_(actress)', 'birthPlace', 'Lagos'],\n",
    "#  ['Amusa_Shittu', 'deathPlace', 'Lagos'],\n",
    "#  ['Samuel_Ajayi_Crowther', 'deathPlace', 'Lagos'],\n",
    "#  ['Samuel_Johnson_(Nigerian_historian)', 'deathPlace', 'Lagos'],\n",
    "#  ['Dobox', 'foundationPlace', 'Lagos'],\n",
    "#  ['IROKO_Partners', 'foundationPlace', 'Lagos'],\n",
    "#  ['Isaac_Fola-Alade', 'significantBuilding', 'Lagos'],\n",
    "#  ['Olufemi_Majekodunmi', 'significantBuilding', 'Lagos'],\n",
    "#  ['Cally_Air', 'targetAirport', 'Lagos'],\n",
    "#  ['Ibom_Air', 'targetAirport', 'Lagos'],\n",
    "#  ['Max_Air', 'targetAirport', 'Lagos'],\n",
    "#  ['Isaac_Fola-Alade', 'significantProject', 'Lagos'],\n",
    "#  ['ADC_Airlines', 'hubAirport', 'Lagos'],\n",
    "#  ['Babington_Macaulay_Junior_Seminary', 'state', 'Lagos'],\n",
    "#  ['Government_College_Ikorodu', 'state', 'Lagos'],\n",
    "#  ['Ebun_Oluwa_Pro_Veritas', 'state', 'Lagos'],\n",
    "#  ['Colonial_Nigeria', 'capital', 'Lagos'],\n",
    "#  ['Federation_of_Nigeria', 'capital', 'Lagos'],\n",
    "#  ['Lagos_Colony', 'capital', 'Lagos'],\n",
    "#  ['African_Union', 'largestCity', 'Lagos'],\n",
    "#  ['Nigeria', 'largestCity', 'Lagos'],\n",
    "#  ['Military_dictatorship_in_Nigeria', 'largestCity', 'Lagos'],\n",
    "#  ['Volkswagen_Beetle', 'assembly', 'Lagos'],\n",
    "#  ['Volkswagen_Jetta_(A2)', 'assembly', 'Lagos'],\n",
    "#  ['Isuzu_Forward', 'assembly', 'Lagos'],\n",
    "#  ['Juliet_Ibrahim', 'award', 'Lagos'],\n",
    "#  ['Benin-Ore-Shagamu_Expressway', 'city', 'Lagos'],\n",
    "#  ['Encomium_Magazine', 'city', 'Lagos'],\n",
    "#  ['Bogobiri_House', 'city', 'Lagos'],\n",
    "#  ['Sub-Saharan_Africa', 'country', 'Lagos'],\n",
    "#  ['Desmond_Majekodunmi', 'education', 'Lagos'],\n",
    "#  ['Buchi_Emecheta', 'education', 'Lagos'],\n",
    "#  ['Habeeb_Okunola', 'education', 'Lagos'],\n",
    "#  ['MFM_F.C.', 'ground', 'Lagos'],\n",
    "#  ['ACB_Lagos_F.C.', 'ground', 'Lagos'],\n",
    "#  ['COD_United_F.C.', 'ground', 'Lagos'],\n",
    "#  ['Caritas_Communications', 'headquarter', 'Lagos'],\n",
    "#  ['Nigerian_Accounting_Association', 'headquarter', 'Lagos'],\n",
    "#  ['Merchant_Express_Aviation', 'headquarter', 'Lagos'],\n",
    "#  ['Sasha_P', 'hometown', 'Lagos'],\n",
    "#  ['Davina_Oriakhi', 'hometown', 'Lagos'],\n",
    "#  ['VanJess', 'hometown', 'Lagos'],\n",
    "#  ['Olu_Amoda', 'knownFor', 'Lagos'],\n",
    "#  ['Toki_Mabogunje', 'knownFor', 'Lagos'],\n",
    "#  ['United_Africa_Company_of_Nigeria', 'locationCity', 'Lagos'],\n",
    "#  ['Promasidor_Nigeria', 'locationCity', 'Lagos'],\n",
    "#  ['G-Worldwide_Entertainment', 'locationCity', 'Lagos'],\n",
    "#  ['LADOL', 'locationCountry', 'Lagos'],\n",
    "#  ['Atlantic_Ocean', 'nearestCity', 'Lagos'],\n",
    "#  ['Lagos_Lagoon', 'nearestCity', 'Lagos'],\n",
    "#  ['Let_Me_Roll_It', 'recordedIn', 'Lagos'],\n",
    "#  ['Mamunia', 'recordedIn', 'Lagos'],\n",
    "#  ['Band_on_the_Run_(song)', 'recordedIn', 'Lagos'],\n",
    "#  ['First_Consultant_Hospital', 'region', 'Lagos'],\n",
    "#  ['National_Orthopaedic_Hospital,_Igbobi', 'region', 'Lagos'],\n",
    "#  ['GIG_Mobility', 'regionServed', 'Lagos'],\n",
    "#  ['TEDxLagos', 'regionServed', 'Lagos'],\n",
    "#  ['Patrick_Utomi', 'residence', 'Lagos'],\n",
    "#  ['Dakuku_Peterside', 'residence', 'Lagos'],\n",
    "#  ['Mudashiru_Obasa', 'residence', 'Lagos']]\"\"\""
   ]
  },
  {
   "cell_type": "code",
   "execution_count": 17,
   "metadata": {},
   "outputs": [],
   "source": [
    "# lagos_86 = \"\"\"Lagos is located in Nigeria, and its inhabitants are known as Lagosians. The city's motto is 'Èkó ò ní bàjé o!' and it was founded by the Awori tribe. Lagos operates on West Africa Time, with a UTC offset of +1. The land area of Lagos covers 999.6 square kilometers, with the urban area measuring 907 square kilometers, while the metropolitan area spans 2,706.7 square kilometers. The total area of the city is 1,171.28 square kilometers. Lagos has a population of 8,048,430, with a population density of 6,871 people per square kilometer, while the metropolitan population reaches 21,320,000 with a metro density of 7,759 per square kilometer. The city's area code is 010.\n",
    "\n",
    "# The Atlantic Ocean and Lagos Lagoon are closest to Lagos. It is recognized as the largest city within the African Union, Nigeria, and during the Military dictatorship in Nigeria. Lagos has also served as the capital of Colonial Nigeria, the Federation of Nigeria, and the Lagos Colony. In Sub-Saharan Africa, Lagos is counted among its prominent cities.\n",
    "\n",
    "# Numerous institutions and organizations are based in Lagos, such as Benfruit Plant, the Nigerian Institute of Management, and Before 30. The city is also the foundation place of Dobox and IROKO Partners. Companies like Caritas Communications, the Nigerian Accounting Association, and Merchant Express Aviation have their headquarters in Lagos. The United Africa Company of Nigeria, Promasidor Nigeria, and G-Worldwide Entertainment are all located in the city. LADOL is also situated in Lagos. Lagos serves as the region for GIG Mobility and TEDxLagos, as well as for First Consultant Hospital and National Orthopaedic Hospital, Igbobi. Notable locations like the Benin-Ore-Shagamu Expressway, Encomium Magazine, and Bogobiri House are found here, and educational institutions such as Babington Macaulay Junior Seminary, Government College Ikorodu, and Ebun Oluwa Pro Veritas are located within Lagos State. Lagos is home to the grounds of MFM F.C., ACB Lagos F.C., and COD United F.C., and is associated with the assembly of vehicles like the Volkswagen Beetle, Volkswagen Jetta (A2), and Isuzu Forward. The city is known for significant buildings designed by Isaac Fola-Alade and Olufemi Majekodunmi, as well as a significant project by Isaac Fola-Alade. Music recordings such as 'Let Me Roll It', 'Mamunia', and 'Band on the Run' were recorded in Lagos. The city is notable for the historic Reduction of Lagos, and features as a target airport for airlines including Cally Air, Ibom Air, and Max Air, while also serving as a hub for ADC Airlines.\n",
    "\n",
    "# Lagos is the hometown of personalities such as Sasha P, Davina Oriakhi, and VanJess. It is likewise the birthplace of Cait O'Riordan, Candy Augustine Agbane, and Carol King the actress. The city is where figures like Amusa Shittu, Samuel Ajayi Crowther, and Samuel Johnson, the Nigerian historian, passed away. It is home to residents including Patrick Utomi, Dakuku Peterside, and Mudashiru Obasa. Individuals such as Olu Amoda and Toki Mabogunje are known for their connections to Lagos. The city is where Desmond Majekodunmi, Buchi Emecheta, and Habeeb Okunola received their education, and Juliet Ibrahim is among those who have received awards in Lagos.\"\"\"\n",
    "\n",
    "# print(lagos_86)"
   ]
  },
  {
   "cell_type": "code",
   "execution_count": 18,
   "metadata": {},
   "outputs": [],
   "source": [
    "# import json\n",
    "# from pathlib import Path\n",
    "\n",
    "# src_path = Path(\"results/webnlg.json\")\n",
    "# dst_path = Path(\"results/webnlg.txt\")\n",
    "\n",
    "# with src_path.open(encoding=\"utf-8\") as src, dst_path.open(\"w\", encoding=\"utf-8\") as dst:\n",
    "#     for lineno, line in enumerate(src, 1):\n",
    "#         line = line.strip()\n",
    "#         if not line:          # skip blank lines\n",
    "#             continue\n",
    "#         try:\n",
    "#             obj = json.loads(line)\n",
    "#         except json.JSONDecodeError as exc:\n",
    "#             print(f\"⚠️  skip line {lineno}: {exc}\")\n",
    "#             continue\n",
    "\n",
    "#         # Normalise whitespace: collapse any CR/LF runs to a single space\n",
    "#         pred = \" \".join(obj.get(\"prediction\", \"\").split())\n",
    "#         if pred:\n",
    "#             dst.write(pred + \"\\n\")\n",
    "\n",
    "# print(f\"Finished – cleaned predictions saved to {dst_path}\")\n"
   ]
  },
  {
   "cell_type": "code",
   "execution_count": 20,
   "metadata": {},
   "outputs": [],
   "source": [
    "# import os\n",
    "# from typing import List, Union\n",
    "# from agents.dataloader import load_dataset_by_name, extract_example\n",
    "\n",
    "# # ── CONFIG ────────────────────────────────────────────────────────────────\n",
    "# name = \"webnlg\"   # dataset name understood by load_dataset_by_name()\n",
    "# split = \"test\"    # which split to use (train / valid / test)\n",
    "# outdir = \"references\"  # where to write reference0 … reference3\n",
    "# num_reference_files = 4\n",
    "# # ──────────────────────────────────────────────────────────────────────────\n",
    "\n",
    "\n",
    "# def to_fixed_list(target: Union[str, List[str]]) -> List[str]:\n",
    "#     \"\"\"Return a list of exactly `num_reference_files` strings.\"\"\"\n",
    "#     if isinstance(target, str):\n",
    "#         target_list = [target]\n",
    "#     else:\n",
    "#         target_list = list(target)\n",
    "#     padded = (target_list + [\"\"] * num_reference_files)[:num_reference_files]\n",
    "#     return [t.strip() for t in padded]\n",
    "\n",
    "\n",
    "# data = load_dataset_by_name(name)\n",
    "# dataset = data[split]\n",
    "\n",
    "# os.makedirs(outdir, exist_ok=True)\n",
    "# files = [open(os.path.join(outdir, f\"reference{i}\"), \"w\", encoding=\"utf-8\")\n",
    "#          for i in range(num_reference_files)]\n",
    "\n",
    "# try:\n",
    "#     for i, raw in enumerate(dataset):\n",
    "#         sample = extract_example(name, raw)\n",
    "#         targets = to_fixed_list(sample.get(\"target\", \"\"))\n",
    "#         for fh, t in zip(files, targets):\n",
    "#             fh.write(t + \"\\n\")\n",
    "#         if (i + 1) % 500 == 0:\n",
    "#             print(f\"Processed {i + 1}/{len(dataset)} samples …\")\n",
    "# finally:\n",
    "#     for fh in files:\n",
    "#         fh.close()\n",
    "\n",
    "# print(\"✅ Done – reference files saved to:\")\n",
    "# print(\"\\n\".join(os.path.join(outdir, f\"reference{i}\") for i in range(num_reference_files)))\n"
   ]
  }
 ],
 "metadata": {
  "kernelspec": {
   "display_name": "lang2",
   "language": "python",
   "name": "python3"
  },
  "language_info": {
   "codemirror_mode": {
    "name": "ipython",
    "version": 3
   },
   "file_extension": ".py",
   "mimetype": "text/x-python",
   "name": "python",
   "nbconvert_exporter": "python",
   "pygments_lexer": "ipython3",
   "version": "3.10.6"
  }
 },
 "nbformat": 4,
 "nbformat_minor": 2
}
