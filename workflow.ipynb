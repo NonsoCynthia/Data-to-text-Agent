{
 "cells": [
  {
   "cell_type": "code",
   "execution_count": 1,
   "metadata": {},
   "outputs": [
    {
     "name": "stderr",
     "output_type": "stream",
     "text": [
      "/home/chinonso/anaconda3/envs/lang2/lib/python3.10/site-packages/tqdm/auto.py:21: TqdmWarning: IProgress not found. Please update jupyter and ipywidgets. See https://ipywidgets.readthedocs.io/en/stable/user_install.html\n",
      "  from .autonotebook import tqdm as notebook_tqdm\n",
      "PyTorch version 2.8.0.dev20250515+cu128 available.\n"
     ]
    }
   ],
   "source": [
    "import os\n",
    "import json\n",
    "from typing import List, Literal, Optional, Text, Union, Dict, Any\n",
    "from IPython.display import Image, display\n",
    "from langchain_core.runnables.graph_mermaid import MermaidDrawMethod\n",
    "from agents.agents_modules.workflow import build_agent_workflow\n",
    "from agents.dataloader import load_dataset_by_name, extract_example"
   ]
  },
  {
   "cell_type": "code",
   "execution_count": 2,
   "metadata": {},
   "outputs": [],
   "source": [
    "def save_result_to_json(state: dict, filename: str = \"result.json\", directory: str = \"results\") -> None:\n",
    "    \"\"\"\n",
    "    Saves the given agent workflow state to a JSON file in a specified directory.\n",
    "\n",
    "    Args:\n",
    "        state (dict): The final state returned by the agent graph execution.\n",
    "        filename (str): The name of the JSON file to save.\n",
    "        directory (str): The directory where the file will be saved.\n",
    "\n",
    "    Raises:\n",
    "        IsADirectoryError: If the target file path is a directory.\n",
    "    \"\"\"\n",
    "\n",
    "    file_path = os.path.join(directory, filename)\n",
    "    os.makedirs(directory, exist_ok=True)\n",
    "\n",
    "    if os.path.isdir(file_path):\n",
    "        raise IsADirectoryError(f\"Cannot write to '{file_path}' because it is a directory.\")\n",
    "\n",
    "    # Recursively convert objects to serializable types\n",
    "    def make_serializable(obj):\n",
    "        if isinstance(obj, list):\n",
    "            return [make_serializable(x) for x in obj]\n",
    "        elif hasattr(obj, \"model_dump\"):  # Pydantic BaseModel\n",
    "            return obj.model_dump()\n",
    "        elif isinstance(obj, dict):\n",
    "            return {k: make_serializable(v) for k, v in obj.items()}\n",
    "        else:\n",
    "            return obj\n",
    "\n",
    "    serializable_state = make_serializable(dict(state))\n",
    "\n",
    "    with open(file_path, \"w\", encoding=\"utf-8\") as f:\n",
    "        json.dump(serializable_state, f, indent=4)\n",
    "\n",
    "    print(f\"Results saved to {file_path}\")\n"
   ]
  },
  {
   "cell_type": "code",
   "execution_count": 3,
   "metadata": {},
   "outputs": [],
   "source": [
    "# from datasets import load_dataset\n",
    "\n",
    "# rotowire = load_dataset(\"mrm8488/rotowire-sbnation\")\n",
    "# turku_hockey = datasets.load_dataset('GEM/turku_hockey_data2text')\n",
    "# totto = datasets.load_dataset('GEM/totto')\n",
    "# sportsett_basketball = datasets.load_dataset('GEM/sportsett_basketball')\n",
    "# webnlg = datasets.load_dataset('GEM/web_nlg', 'en')\n",
    "# conversational_weather = datasets.load_dataset('GEM/conversational_weather')\n",
    "# dart = datasets.load_dataset('GEM/dart')\n",
    "# mlb = datasets.load_dataset('GEM/mlb_data_to_text')"
   ]
  },
  {
   "cell_type": "code",
   "execution_count": 4,
   "metadata": {},
   "outputs": [
    {
     "name": "stdout",
     "output_type": "stream",
     "text": [
      "Loading dataset: dart\n",
      "Input: [['Wildwood', 'eatType', 'coffee shop'], ['Wildwood', 'food', 'English'], ['Wildwood', 'priceRange', 'less than £20'], ['Wildwood', 'customer rating', 'low'], ['Wildwood', 'near', 'Ranch']]\n",
      "Target: Wildwood is a coffee shop prices are less than £20 serving English food near the Ranch with a low customer rating\n",
      "Ground Truth: ['Wildwood is a coffee shop prices are less than £20 serving English food near the Ranch with a low customer rating', 'located near Ranch Wildwood coffee shop serves English food with a low customer rating prices are less than £20']\n"
     ]
    }
   ],
   "source": [
    "name = \"dart\"  # Change this to the dataset you want to load\n",
    "num = -10 # Sample id\n",
    "\n",
    "data = load_dataset_by_name(name)\n",
    "sample = extract_example(name, data[\"validation\"][num])\n",
    "data = sample.get('input', '')\n",
    "ground_truth = sample.get('references', \"\")\n",
    "target = sample.get('target', \"\")\n",
    "\n",
    "query = f\"\"\"You are an agent designed to generate text from data for a data-to-text natural language generation. You can be provided data in the form of xml, table, meaning representations, graphs etc. \n",
    "Your task is to generate the appropriate text given the data information without omitting any field or adding extra information in essence called hallucination.\n",
    "Here is the data generate text using table data:\n",
    "{data}\"\"\"\n",
    "\n",
    "print(f\"Input: {data}\")\n",
    "print(f\"Target: {target}\")\n",
    "print(f\"Ground Truth: {ground_truth}\")"
   ]
  },
  {
   "cell_type": "code",
   "execution_count": 18,
   "metadata": {},
   "outputs": [],
   "source": [
    "provider = \"openai\" #ollama, openai, hf, aixplain\n",
    "add_plan = False # True or False\n",
    "process_flow = build_agent_workflow(provider=provider)\n",
    "# display(Image(process_flow.get_graph(xray=True).draw_mermaid_png(draw_method=MermaidDrawMethod.PYPPETEER)))\n",
    "# display(Image(process_flow.get_graph(xray=True).draw_mermaid_png()))"
   ]
  },
  {
   "cell_type": "code",
   "execution_count": 19,
   "metadata": {},
   "outputs": [
    {
     "name": "stderr",
     "output_type": "stream",
     "text": [
      "HTTP Request: POST https://api.openai.com/v1/chat/completions \"HTTP/1.1 200 OK\"\n"
     ]
    },
    {
     "name": "stdout",
     "output_type": "stream",
     "text": [
      "\n",
      "\n",
      "\u001b[1m> Entering new AgentExecutor chain...\u001b[0m\n"
     ]
    },
    {
     "name": "stderr",
     "output_type": "stream",
     "text": [
      "HTTP Request: POST https://api.openai.com/v1/chat/completions \"HTTP/1.1 200 OK\"\n"
     ]
    },
    {
     "name": "stdout",
     "output_type": "stream",
     "text": [
      "\u001b[32;1m\u001b[1;3m{\n",
      "  \"action\": \"Final Answer\",\n",
      "  \"action_input\": \"<coffee_shop>\\n  <name>Wildwood</name>\\n  <eat_type>coffee shop</eat_type>\\n  <food>English</food>\\n  <price_range>less than £20</price_range>\\n  <customer_rating>low</customer_rating>\\n  <near>Ranch</near>\\n</coffee_shop>\"\n",
      "}\u001b[0m\n",
      "\n",
      "\u001b[1m> Finished chain.\u001b[0m\n"
     ]
    },
    {
     "name": "stderr",
     "output_type": "stream",
     "text": [
      "HTTP Request: POST https://api.openai.com/v1/chat/completions \"HTTP/1.1 200 OK\"\n"
     ]
    },
    {
     "name": "stdout",
     "output_type": "stream",
     "text": [
      "INSPECTOR: CORRECT\n"
     ]
    },
    {
     "name": "stderr",
     "output_type": "stream",
     "text": [
      "HTTP Request: POST https://api.openai.com/v1/chat/completions \"HTTP/1.1 200 OK\"\n"
     ]
    },
    {
     "name": "stdout",
     "output_type": "stream",
     "text": [
      "\n",
      "\n",
      "\u001b[1m> Entering new AgentExecutor chain...\u001b[0m\n"
     ]
    },
    {
     "name": "stderr",
     "output_type": "stream",
     "text": [
      "HTTP Request: POST https://api.openai.com/v1/chat/completions \"HTTP/1.1 200 OK\"\n"
     ]
    },
    {
     "name": "stdout",
     "output_type": "stream",
     "text": [
      "\u001b[32;1m\u001b[1;3m```json\n",
      "{\n",
      "  \"action\": \"Final Answer\",\n",
      "  \"action_input\": \"<snt>The coffee shop named Wildwood serves English food.</snt><snt>It has a price range of less than £20.</snt><snt>The customer rating is low.</snt><snt>It is located near Ranch.</snt>\"\n",
      "}\n",
      "```\u001b[0m\n",
      "\n",
      "\u001b[1m> Finished chain.\u001b[0m\n"
     ]
    },
    {
     "name": "stderr",
     "output_type": "stream",
     "text": [
      "HTTP Request: POST https://api.openai.com/v1/chat/completions \"HTTP/1.1 200 OK\"\n"
     ]
    },
    {
     "name": "stdout",
     "output_type": "stream",
     "text": [
      "INSPECTOR: CORRECT\n"
     ]
    },
    {
     "name": "stderr",
     "output_type": "stream",
     "text": [
      "HTTP Request: POST https://api.openai.com/v1/chat/completions \"HTTP/1.1 200 OK\"\n"
     ]
    },
    {
     "name": "stdout",
     "output_type": "stream",
     "text": [
      "\n",
      "\n",
      "\u001b[1m> Entering new AgentExecutor chain...\u001b[0m\n"
     ]
    },
    {
     "name": "stderr",
     "output_type": "stream",
     "text": [
      "HTTP Request: POST https://api.openai.com/v1/chat/completions \"HTTP/1.1 200 OK\"\n",
      "Using default `ModelCheckpoint`. Consider installing `litmodels` package to enable `LitModelCheckpoint` for automatic upload to the Lightning model registry.\n",
      "GPU available: True (cuda), used: False\n",
      "TPU available: False, using: 0 TPU cores\n",
      "HPU available: False, using: 0 HPUs\n"
     ]
    },
    {
     "name": "stdout",
     "output_type": "stream",
     "text": [
      "\u001b[32;1m\u001b[1;3m```\n",
      "{\n",
      "  \"action\": \"Final Answer\",\n",
      "  \"action_input\": \"The coffee shop named Wildwood serves English food, has a price range of less than £20, is located near Ranch, and has a low customer rating.\"\n",
      "}\n",
      "```\u001b[0m\n",
      "\n",
      "\u001b[1m> Finished chain.\u001b[0m\n"
     ]
    },
    {
     "name": "stderr",
     "output_type": "stream",
     "text": [
      "/home/chinonso/anaconda3/envs/lang2/lib/python3.10/site-packages/pytorch_lightning/trainer/setup.py:177: GPU available but not used. You can set it by doing `Trainer(accelerator='gpu')`.\n",
      "Predicting DataLoader 0: 100%|██████████| 1/1 [00:00<00:00,  7.79it/s]\n"
     ]
    },
    {
     "name": "stdout",
     "output_type": "stream",
     "text": [
      "Metric Evaluation Result: 0.248\n"
     ]
    },
    {
     "name": "stderr",
     "output_type": "stream",
     "text": [
      "HTTP Request: POST https://api.openai.com/v1/chat/completions \"HTTP/1.1 200 OK\"\n"
     ]
    },
    {
     "name": "stdout",
     "output_type": "stream",
     "text": [
      "INSPECTOR: CORRECT\n"
     ]
    },
    {
     "name": "stderr",
     "output_type": "stream",
     "text": [
      "HTTP Request: POST https://api.openai.com/v1/chat/completions \"HTTP/1.1 200 OK\"\n"
     ]
    },
    {
     "name": "stdout",
     "output_type": "stream",
     "text": [
      "AGGREGATOR: The coffee shop named Wildwood serves English food, has a price range of less than £20, is located near Ranch, and has a low customer rating.\n"
     ]
    }
   ],
   "source": [
    "initial_state = {\n",
    "    \"user_prompt\": query,\n",
    "    \"raw_data\": data,\n",
    "    \"history_of_steps\": [],\n",
    "    \"final_response\": \"\",\n",
    "    \"next_agent\": \"\",\n",
    "    \"next_agent_payload\": \"\",\n",
    "    \"current_step\": 0,\n",
    "    \"iteration_count\": 0,\n",
    "    \"max_iteration\": 60,\n",
    "}\n",
    "\n",
    "state = process_flow.invoke(initial_state, config={\"recursion_limit\": initial_state[\"max_iteration\"]})\n",
    "prediction = state['final_response']"
   ]
  },
  {
   "cell_type": "code",
   "execution_count": 7,
   "metadata": {},
   "outputs": [
    {
     "name": "stdout",
     "output_type": "stream",
     "text": [
      "Results saved to results/dart_-10.json\n"
     ]
    }
   ],
   "source": [
    "save_result_to_json(state, filename=f\"{name}_{num}.json\")"
   ]
  },
  {
   "cell_type": "code",
   "execution_count": 8,
   "metadata": {},
   "outputs": [
    {
     "data": {
      "text/plain": [
       "'Wildwood is a coffee shop that serves English food, with a price range of less than £20. However, it has a low customer rating and is located near Ranch.'"
      ]
     },
     "execution_count": 8,
     "metadata": {},
     "output_type": "execute_result"
    }
   ],
   "source": [
    "prediction"
   ]
  },
  {
   "cell_type": "code",
   "execution_count": 9,
   "metadata": {},
   "outputs": [
    {
     "data": {
      "text/plain": [
       "['Wildwood is a coffee shop prices are less than £20 serving English food near the Ranch with a low customer rating',\n",
       " 'located near Ranch Wildwood coffee shop serves English food with a low customer rating prices are less than £20']"
      ]
     },
     "execution_count": 9,
     "metadata": {},
     "output_type": "execute_result"
    }
   ],
   "source": [
    "ground_truth"
   ]
  },
  {
   "cell_type": "code",
   "execution_count": 10,
   "metadata": {},
   "outputs": [
    {
     "data": {
      "text/plain": [
       "'Wildwood is a coffee shop prices are less than £20 serving English food near the Ranch with a low customer rating'"
      ]
     },
     "execution_count": 10,
     "metadata": {},
     "output_type": "execute_result"
    }
   ],
   "source": [
    "target"
   ]
  },
  {
   "cell_type": "code",
   "execution_count": null,
   "metadata": {},
   "outputs": [],
   "source": []
  },
  {
   "cell_type": "code",
   "execution_count": null,
   "metadata": {},
   "outputs": [],
   "source": []
  },
  {
   "cell_type": "code",
   "execution_count": null,
   "metadata": {},
   "outputs": [],
   "source": []
  },
  {
   "cell_type": "code",
   "execution_count": null,
   "metadata": {},
   "outputs": [],
   "source": []
  }
 ],
 "metadata": {
  "kernelspec": {
   "display_name": "lang2",
   "language": "python",
   "name": "python3"
  },
  "language_info": {
   "codemirror_mode": {
    "name": "ipython",
    "version": 3
   },
   "file_extension": ".py",
   "mimetype": "text/x-python",
   "name": "python",
   "nbconvert_exporter": "python",
   "pygments_lexer": "ipython3",
   "version": "3.10.6"
  }
 },
 "nbformat": 4,
 "nbformat_minor": 2
}
