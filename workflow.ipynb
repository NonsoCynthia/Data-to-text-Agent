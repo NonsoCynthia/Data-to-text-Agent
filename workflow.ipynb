{
 "cells": [
  {
   "cell_type": "code",
   "execution_count": 1,
   "metadata": {},
   "outputs": [
    {
     "name": "stderr",
     "output_type": "stream",
     "text": [
      "/home/chinonso/anaconda3/envs/lang2/lib/python3.10/site-packages/tqdm/auto.py:21: TqdmWarning: IProgress not found. Please update jupyter and ipywidgets. See https://ipywidgets.readthedocs.io/en/stable/user_install.html\n",
      "  from .autonotebook import tqdm as notebook_tqdm\n"
     ]
    }
   ],
   "source": [
    "import os\n",
    "import json\n",
    "from typing import List, Literal, Optional, Text, Union, Dict, Any\n",
    "from IPython.display import Image, display\n",
    "from langchain_core.runnables.graph_mermaid import MermaidDrawMethod\n",
    "from agents.agents_modules.workflow import build_agent_workflow\n",
    "from agents.dataloader import load_dataset_by_name, extract_example\n",
    "from agents.utilities.agent_utils import save_result_to_json\n",
    "from agents.llm_model import UnifiedModel, model_name\n",
    "from agents.agent_prompts import END_TO_END_GENERATION_PROMPT, input_prompt, CONTENT_SELECTION_PROMPT"
   ]
  },
  {
   "cell_type": "code",
   "execution_count": 2,
   "metadata": {},
   "outputs": [],
   "source": [
    "provider = \"openai\" #ollama, openai, hf, aixplain\n",
    "process_flow = build_agent_workflow(provider=provider)\n",
    "# display(Image(process_flow.get_graph(xray=True).draw_mermaid_png()))"
   ]
  },
  {
   "cell_type": "code",
   "execution_count": 3,
   "metadata": {},
   "outputs": [
    {
     "name": "stdout",
     "output_type": "stream",
     "text": [
      "Loading dataset: webnlg_hf\n",
      "Size: 1779\n",
      "========== INPUT DATA ==========\n",
      "['Bootleg_Series_Volume_1:_The_Quine_Tapes | genre | Rock_music', 'Bootleg_Series_Volume_1:_The_Quine_Tapes | precededBy | Squeeze_(The_Velvet_Underground_album)', 'Bootleg_Series_Volume_1:_The_Quine_Tapes | recordLabel | Polydor_Records', 'Bootleg_Series_Volume_1:_The_Quine_Tapes | recordedIn | San_Francisco']\n",
      "\n",
      "========== TARGET (if any) ==========\n",
      "The Velvet Underground Squeeze album was succeeded by the rock album Bootleg Series Volume 1: The Quine Tapes, recorded under record label Polydor Records in San Francisco.\n",
      "\n",
      "========== GROUND TRUTH REFERENCES ==========\n",
      "\n"
     ]
    }
   ],
   "source": [
    "# Exclude turku_hockey and conversational_weather\n",
    "# totto, webnlg, dart, rotowire, sportsett_basketball, mlb\n",
    "name = \"webnlg_hf\"\n",
    "num = 1690 # Sample id\n",
    "set = \"test\"\n",
    "\n",
    "data = load_dataset_by_name(name)\n",
    "dataset = data[set]\n",
    "sample = extract_example(name, data[set][num])\n",
    "data = sample.get('input', '')\n",
    "ground_truth = sample.get('references', \"\")\n",
    "target = sample.get('target', \"\")\n",
    "\n",
    "print(f\"Size: {len(dataset)}\")\n",
    "print(\"========== INPUT DATA ==========\")\n",
    "print(f\"{data}\\n\")\n",
    "print(\"========== TARGET (if any) ==========\")\n",
    "print(f\"{target}\\n\")\n",
    "print(\"========== GROUND TRUTH REFERENCES ==========\")\n",
    "print(f\"{ground_truth}\")"
   ]
  },
  {
   "cell_type": "code",
   "execution_count": 4,
   "metadata": {},
   "outputs": [
    {
     "name": "stdout",
     "output_type": "stream",
     "text": [
      "[\n",
      "  \"Genre (Bootleg Series Volume 1: The Quine Tapes): Rock music\",\n",
      "  \"Preceded By (Bootleg Series Volume 1: The Quine Tapes): Squeeze (The Velvet Underground album)\",\n",
      "  \"Record Label (Bootleg Series Volume 1: The Quine Tapes): Polydor Records\",\n",
      "  \"Recorded In (Bootleg Series Volume 1: The Quine Tapes): San Francisco\"\n",
      "]\n"
     ]
    }
   ],
   "source": [
    "conf = model_name.get(provider.lower(), {}).copy()\n",
    "conf[\"temperature\"] = 0.0\n",
    "llm = UnifiedModel(provider=provider, **conf).model_(CONTENT_SELECTION_PROMPT)\n",
    "CS_prediction = llm.invoke({'input': data}).content.strip()\n",
    "print(CS_prediction)"
   ]
  },
  {
   "cell_type": "code",
   "execution_count": 5,
   "metadata": {},
   "outputs": [
    {
     "name": "stdout",
     "output_type": "stream",
     "text": [
      "ORCHESTRATOR OUTPUT: Thought: The task requires generating text from structured data. The first step in the pipeline is content ordering, where I need to reorder the list of facts to reflect a natural and coherent flow for verbalizing the final text. The facts should be grouped by entity and ordered from general to specific.\n",
      "\n",
      "Worker: content ordering\n",
      "Worker Input: \n",
      "[\n",
      "  \"Genre (Bootleg Series Volume 1: The Quine Tapes): Rock music\",\n",
      "  \"Preceded By (Bootleg Series Volume 1: The Quine Tapes): Squeeze (The Velvet Underground album)\",\n",
      "  \"Record Label (Bootleg Series Volume 1: The Quine Tapes): Polydor Records\",\n",
      "  \"Recorded In (Bootleg Series Volume 1: The Quine Tapes): San Francisco\"\n",
      "] \n",
      "\n",
      "Instructions:\n",
      "- Group related facts under the same entity, \"Bootleg Series Volume 1: The Quine Tapes.\"\n",
      "- Order the facts from general/background information to more specific details.\n",
      "- Maintain the exact format: \"Attribute (Entity): Value\".\n",
      "\n",
      "\n",
      "\u001b[1m> Entering new AgentExecutor chain...\u001b[0m\n",
      "\u001b[32;1m\u001b[1;3m```json\n",
      "{\n",
      "  \"action\": \"Final Answer\",\n",
      "  \"action_input\": [\n",
      "    \"Genre (Bootleg Series Volume 1: The Quine Tapes): Rock music\",\n",
      "    \"Record Label (Bootleg Series Volume 1: The Quine Tapes): Polydor Records\",\n",
      "    \"Recorded In (Bootleg Series Volume 1: The Quine Tapes): San Francisco\",\n",
      "    \"Preceded By (Bootleg Series Volume 1: The Quine Tapes): Squeeze (The Velvet Underground album)\"\n",
      "  ]\n",
      "}\n",
      "```\u001b[0m\n",
      "\n",
      "\u001b[1m> Finished chain.\u001b[0m\n",
      "Worker: {'input': '[\\n  \"Genre (Bootleg Series Volume 1: The Quine Tapes): Rock music\",\\n  \"Preceded By (Bootleg Series Volume 1: The Quine Tapes): Squeeze (The Velvet Underground album)\",\\n  \"Record Label (Bootleg Series Volume 1: The Quine Tapes): Polydor Records\",\\n  \"Recorded In (Bootleg Series Volume 1: The Quine Tapes): San Francisco\"\\n] \\n\\n Additional Instruction: - Group related facts under the same entity, \"Bootleg Series Volume 1: The Quine Tapes.\"\\n- Order the facts from general/background information to more specific details.\\n- Maintain the exact format: \"Attribute (Entity): Value\".', 'output': ['Genre (Bootleg Series Volume 1: The Quine Tapes): Rock music', 'Record Label (Bootleg Series Volume 1: The Quine Tapes): Polydor Records', 'Recorded In (Bootleg Series Volume 1: The Quine Tapes): San Francisco', 'Preceded By (Bootleg Series Volume 1: The Quine Tapes): Squeeze (The Velvet Underground album)']}\n",
      "ORCHESTRATOR OUTPUT: Thought: The content ordering step has been completed correctly, and the feedback confirms that the order is appropriate. The next step is to structure the ordered facts into coherent sentence-level and paragraph-level units. I will now proceed with the text structuring task.\n",
      "\n",
      "Worker: text structuring\n",
      "\n",
      "Worker Input: \n",
      "- Ordered facts:\n",
      "  - \"Genre (Bootleg Series Volume 1: The Quine Tapes): Rock music\"\n",
      "  - \"Record Label (Bootleg Series Volume 1: The Quine Tapes): Polydor Records\"\n",
      "  - \"Recorded In (Bootleg Series Volume 1: The Quine Tapes): San Francisco\"\n",
      "  - \"Preceded By (Bootleg Series Volume 1: The Quine Tapes): Squeeze (The Velvet Underground album)\"\n",
      "\n",
      "Instructions:\n",
      "- Group the ordered facts into natural sentence units using <snt> tags.\n",
      "- Cluster related sentences into a single <paragraph> tag since the input is short and revolves around a single entity.\n",
      "- Ensure each sentence expresses a complete and coherent thought, combining multiple related facts where possible.\n",
      "- Maintain the exact format and order of each fact string without rewriting or summarizing.\n",
      "- Focus on grouping facts that share the same subject or entity, which in this case is \"Bootleg Series Volume 1: The Quine Tapes\".\n",
      "\n",
      "\n",
      "\u001b[1m> Entering new AgentExecutor chain...\u001b[0m\n",
      "\u001b[32;1m\u001b[1;3m```json\n",
      "{\n",
      "  \"action\": \"Final Answer\",\n",
      "  \"action_input\": \"<paragraph>\\n<snt>\\nGenre (Bootleg Series Volume 1: The Quine Tapes): Rock music  \\nRecord Label (Bootleg Series Volume 1: The Quine Tapes): Polydor Records\\n</snt>\\n<snt>\\nRecorded In (Bootleg Series Volume 1: The Quine Tapes): San Francisco  \\nPreceded By (Bootleg Series Volume 1: The Quine Tapes): Squeeze (The Velvet Underground album)\\n</snt>\\n</paragraph>\"\n",
      "}\n",
      "```\u001b[0m\n",
      "\n",
      "\u001b[1m> Finished chain.\u001b[0m\n",
      "Worker: {'input': '- Ordered facts:\\n  - \"Genre (Bootleg Series Volume 1: The Quine Tapes): Rock music\"\\n  - \"Record Label (Bootleg Series Volume 1: The Quine Tapes): Polydor Records\"\\n  - \"Recorded In (Bootleg Series Volume 1: The Quine Tapes): San Francisco\"\\n  - \"Preceded By (Bootleg Series Volume 1: The Quine Tapes): Squeeze (The Velvet Underground album)\"\\n\\n Additional Instruction: - Group the ordered facts into natural sentence units using <snt> tags.\\n- Cluster related sentences into a single <paragraph> tag since the input is short and revolves around a single entity.\\n- Ensure each sentence expresses a complete and coherent thought, combining multiple related facts where possible.\\n- Maintain the exact format and order of each fact string without rewriting or summarizing.\\n- Focus on grouping facts that share the same subject or entity, which in this case is \"Bootleg Series Volume 1: The Quine Tapes\".', 'output': '<paragraph>\\n<snt>\\nGenre (Bootleg Series Volume 1: The Quine Tapes): Rock music  \\nRecord Label (Bootleg Series Volume 1: The Quine Tapes): Polydor Records\\n</snt>\\n<snt>\\nRecorded In (Bootleg Series Volume 1: The Quine Tapes): San Francisco  \\nPreceded By (Bootleg Series Volume 1: The Quine Tapes): Squeeze (The Velvet Underground album)\\n</snt>\\n</paragraph>'}\n",
      "ORCHESTRATOR OUTPUT: Thought: The text structuring step has been completed correctly, and the feedback indicates that the output is correct. The next step is to proceed with the surface realization task to convert the structured content into fluent, natural language text.\n",
      "\n",
      "Worker: surface realization\n",
      "\n",
      "Worker Input: \n",
      "```<paragraph>\n",
      "<snt>\n",
      "Genre (Bootleg Series Volume 1: The Quine Tapes): Rock music  \n",
      "Record Label (Bootleg Series Volume 1: The Quine Tapes): Polydor Records\n",
      "</snt>\n",
      "<snt>\n",
      "Recorded In (Bootleg Series Volume 1: The Quine Tapes): San Francisco  \n",
      "Preceded By (Bootleg Series Volume 1: The Quine Tapes): Squeeze (The Velvet Underground album)\n",
      "</snt>\n",
      "</paragraph>\n",
      "```\n",
      "\n",
      "Instructions:\n",
      "- Transform each <snt> block into a fluent sentence.\n",
      "- Combine all sentences inside the <paragraph> block into a single cohesive paragraph.\n",
      "- Ensure clarity, grammatical correctness, and full factual coverage.\n",
      "- Avoid excessive repetition or mechanical phrasing.\n",
      "- Do not include <snt> or <paragraph> tags in your output.\n",
      "\n",
      "\n",
      "\u001b[1m> Entering new AgentExecutor chain...\u001b[0m\n",
      "\u001b[32;1m\u001b[1;3m{\n",
      "  \"action\": \"Final Answer\",\n",
      "  \"action_input\": \"The album 'Bootleg Series Volume 1: The Quine Tapes' is a rock music collection released by Polydor Records. It was recorded in San Francisco and follows the album 'Squeeze' by The Velvet Underground.\"\n",
      "}\u001b[0m\n",
      "\n",
      "\u001b[1m> Finished chain.\u001b[0m\n",
      "Worker: {'input': '```<paragraph>\\n<snt>\\nGenre (Bootleg Series Volume 1: The Quine Tapes): Rock music  \\nRecord Label (Bootleg Series Volume 1: The Quine Tapes): Polydor Records\\n</snt>\\n<snt>\\nRecorded In (Bootleg Series Volume 1: The Quine Tapes): San Francisco  \\nPreceded By (Bootleg Series Volume 1: The Quine Tapes): Squeeze (The Velvet Underground album)\\n</snt>\\n</paragraph>\\n```\\n\\n Additional Instruction: - Transform each <snt> block into a fluent sentence.\\n- Combine all sentences inside the <paragraph> block into a single cohesive paragraph.\\n- Ensure clarity, grammatical correctness, and full factual coverage.\\n- Avoid excessive repetition or mechanical phrasing.\\n- Do not include <snt> or <paragraph> tags in your output.', 'output': \"The album 'Bootleg Series Volume 1: The Quine Tapes' is a rock music collection released by Polydor Records. It was recorded in San Francisco and follows the album 'Squeeze' by The Velvet Underground.\"}\n"
     ]
    }
   ],
   "source": [
    "query = f\"\"\"You are an agent designed to generate text from data for a data-to-text natural language generation. You can be provided data in the form of xml, table, meaning representations, graphs etc. \n",
    "Your task is to generate the appropriate text given the data information without omitting any field or adding extra information in essence called hallucination.\n",
    "Here is the data, generate text using the provided data:\n",
    "{CS_prediction}\"\"\"\n",
    "\n",
    "initial_state = {\n",
    "    \"user_prompt\": query,\n",
    "    \"raw_data\": data,\n",
    "    \"history_of_steps\": [],\n",
    "    \"final_response\": \"\",\n",
    "    \"next_agent\": \"\",\n",
    "    \"next_agent_payload\": \"\",\n",
    "    \"current_step\": 0,\n",
    "    \"iteration_count\": 0,\n",
    "    \"max_iteration\": 100,\n",
    "}\n",
    "\n",
    "state = process_flow.invoke(initial_state, config={\"recursion_limit\": initial_state[\"max_iteration\"]})\n",
    "prediction = state['final_response']"
   ]
  },
  {
   "cell_type": "code",
   "execution_count": 6,
   "metadata": {},
   "outputs": [
    {
     "name": "stdout",
     "output_type": "stream",
     "text": [
      "[SAVED] Agent result saved to: results/webnlg_hf/webnlg_hf_1690.json\n"
     ]
    }
   ],
   "source": [
    "save_result_to_json(state, dataset_folder=f\"{name}\", filename=f\"{name}_{num}.json\")\n",
    "# save_result_to_json(state, filename=f\"webnlg_long.json\")"
   ]
  },
  {
   "cell_type": "code",
   "execution_count": 7,
   "metadata": {},
   "outputs": [
    {
     "name": "stdout",
     "output_type": "stream",
     "text": [
      "The album 'Bootleg Series Volume 1: The Quine Tapes' is a rock music collection released by Polydor Records. It was recorded in San Francisco and follows the album 'Squeeze' by The Velvet Underground.\n"
     ]
    }
   ],
   "source": [
    "print(prediction)"
   ]
  },
  {
   "cell_type": "code",
   "execution_count": 8,
   "metadata": {},
   "outputs": [
    {
     "data": {
      "text/plain": [
       "''"
      ]
     },
     "execution_count": 8,
     "metadata": {},
     "output_type": "execute_result"
    }
   ],
   "source": [
    "ground_truth"
   ]
  },
  {
   "cell_type": "code",
   "execution_count": 9,
   "metadata": {},
   "outputs": [
    {
     "data": {
      "text/plain": [
       "'The Velvet Underground Squeeze album was succeeded by the rock album Bootleg Series Volume 1: The Quine Tapes, recorded under record label Polydor Records in San Francisco.'"
      ]
     },
     "execution_count": 9,
     "metadata": {},
     "output_type": "execute_result"
    }
   ],
   "source": [
    "target"
   ]
  },
  {
   "cell_type": "code",
   "execution_count": 10,
   "metadata": {},
   "outputs": [],
   "source": [
    "# from agents.evaluator import evaluate_single\n",
    "\n",
    "# scores = evaluate_single(target, prediction, data)\n",
    "# for metric, score in scores.items():\n",
    "#     print(f\"{metric}: {score:.4f}\")"
   ]
  },
  {
   "cell_type": "code",
   "execution_count": 11,
   "metadata": {},
   "outputs": [],
   "source": [
    "# data = \"\"\"[['Lagos', 'areaLand', '999600000.0'],\n",
    "#  ['Lagos', 'areaMetro', '2706700000.0'],\n",
    "#  ['Lagos', 'areaUrban', '907000000.0'],\n",
    "#  ['Lagos', 'populationMetro', '21320000'],\n",
    "#  ['Lagos', 'populationMetroDensity', '7759.0'],\n",
    "#  ['Lagos', 'areaMetro', '2706.7'],\n",
    "#  ['Lagos', 'areaTotal', '1171.28'],\n",
    "#  ['Lagos', 'areaUrban', '907.0'],\n",
    "#  ['Lagos', 'populationDensity', '6871.0'],\n",
    "#  ['Lagos', 'populationMetroDensity', '7759.0'],\n",
    "#  ['Lagos', 'areaCode', '010'],\n",
    "#  ['Lagos', 'areaTotal', '1171280000.0'],\n",
    "#  ['Lagos', 'demonym', 'Lagosian'],\n",
    "#  ['Lagos', 'motto', 'Èkó ò ní bàjé o!'],\n",
    "#  ['Lagos', 'populationDensity', '6871.0'],\n",
    "#  ['Lagos', 'populationTotal', '8048430'],\n",
    "#  ['Lagos', 'utcOffset', '+1'],\n",
    "#  ['Lagos', 'country', 'Nigeria'],\n",
    "#  ['Lagos', 'founder', 'Awori_tribe'],\n",
    "#  ['Lagos', 'timeZone', 'West_Africa_Time'],\n",
    "#  ['Benfruit_Plant', 'location', 'Lagos'],\n",
    "#  ['Nigerian_Institute_of_Management', 'location', 'Lagos'],\n",
    "#  ['Before_30', 'location', 'Lagos'],\n",
    "#  ['Reduction_of_Lagos', 'place', 'Lagos'],\n",
    "#  [\"Cait_O'Riordan\", 'birthPlace', 'Lagos'],\n",
    "#  ['Candy_Augustine_Agbane', 'birthPlace', 'Lagos'],\n",
    "#  ['Carol_King_(actress)', 'birthPlace', 'Lagos'],\n",
    "#  ['Amusa_Shittu', 'deathPlace', 'Lagos'],\n",
    "#  ['Samuel_Ajayi_Crowther', 'deathPlace', 'Lagos'],\n",
    "#  ['Samuel_Johnson_(Nigerian_historian)', 'deathPlace', 'Lagos'],\n",
    "#  ['Dobox', 'foundationPlace', 'Lagos'],\n",
    "#  ['IROKO_Partners', 'foundationPlace', 'Lagos'],\n",
    "#  ['Isaac_Fola-Alade', 'significantBuilding', 'Lagos'],\n",
    "#  ['Olufemi_Majekodunmi', 'significantBuilding', 'Lagos'],\n",
    "#  ['Cally_Air', 'targetAirport', 'Lagos'],\n",
    "#  ['Ibom_Air', 'targetAirport', 'Lagos'],\n",
    "#  ['Max_Air', 'targetAirport', 'Lagos'],\n",
    "#  ['Isaac_Fola-Alade', 'significantProject', 'Lagos'],\n",
    "#  ['ADC_Airlines', 'hubAirport', 'Lagos'],\n",
    "#  ['Babington_Macaulay_Junior_Seminary', 'state', 'Lagos'],\n",
    "#  ['Government_College_Ikorodu', 'state', 'Lagos'],\n",
    "#  ['Ebun_Oluwa_Pro_Veritas', 'state', 'Lagos'],\n",
    "#  ['Colonial_Nigeria', 'capital', 'Lagos'],\n",
    "#  ['Federation_of_Nigeria', 'capital', 'Lagos'],\n",
    "#  ['Lagos_Colony', 'capital', 'Lagos'],\n",
    "#  ['African_Union', 'largestCity', 'Lagos'],\n",
    "#  ['Nigeria', 'largestCity', 'Lagos'],\n",
    "#  ['Military_dictatorship_in_Nigeria', 'largestCity', 'Lagos'],\n",
    "#  ['Volkswagen_Beetle', 'assembly', 'Lagos'],\n",
    "#  ['Volkswagen_Jetta_(A2)', 'assembly', 'Lagos'],\n",
    "#  ['Isuzu_Forward', 'assembly', 'Lagos'],\n",
    "#  ['Juliet_Ibrahim', 'award', 'Lagos'],\n",
    "#  ['Benin-Ore-Shagamu_Expressway', 'city', 'Lagos'],\n",
    "#  ['Encomium_Magazine', 'city', 'Lagos'],\n",
    "#  ['Bogobiri_House', 'city', 'Lagos'],\n",
    "#  ['Sub-Saharan_Africa', 'country', 'Lagos'],\n",
    "#  ['Desmond_Majekodunmi', 'education', 'Lagos'],\n",
    "#  ['Buchi_Emecheta', 'education', 'Lagos'],\n",
    "#  ['Habeeb_Okunola', 'education', 'Lagos'],\n",
    "#  ['MFM_F.C.', 'ground', 'Lagos'],\n",
    "#  ['ACB_Lagos_F.C.', 'ground', 'Lagos'],\n",
    "#  ['COD_United_F.C.', 'ground', 'Lagos'],\n",
    "#  ['Caritas_Communications', 'headquarter', 'Lagos'],\n",
    "#  ['Nigerian_Accounting_Association', 'headquarter', 'Lagos'],\n",
    "#  ['Merchant_Express_Aviation', 'headquarter', 'Lagos'],\n",
    "#  ['Sasha_P', 'hometown', 'Lagos'],\n",
    "#  ['Davina_Oriakhi', 'hometown', 'Lagos'],\n",
    "#  ['VanJess', 'hometown', 'Lagos'],\n",
    "#  ['Olu_Amoda', 'knownFor', 'Lagos'],\n",
    "#  ['Toki_Mabogunje', 'knownFor', 'Lagos'],\n",
    "#  ['United_Africa_Company_of_Nigeria', 'locationCity', 'Lagos'],\n",
    "#  ['Promasidor_Nigeria', 'locationCity', 'Lagos'],\n",
    "#  ['G-Worldwide_Entertainment', 'locationCity', 'Lagos'],\n",
    "#  ['LADOL', 'locationCountry', 'Lagos'],\n",
    "#  ['Atlantic_Ocean', 'nearestCity', 'Lagos'],\n",
    "#  ['Lagos_Lagoon', 'nearestCity', 'Lagos'],\n",
    "#  ['Let_Me_Roll_It', 'recordedIn', 'Lagos'],\n",
    "#  ['Mamunia', 'recordedIn', 'Lagos'],\n",
    "#  ['Band_on_the_Run_(song)', 'recordedIn', 'Lagos'],\n",
    "#  ['First_Consultant_Hospital', 'region', 'Lagos'],\n",
    "#  ['National_Orthopaedic_Hospital,_Igbobi', 'region', 'Lagos'],\n",
    "#  ['GIG_Mobility', 'regionServed', 'Lagos'],\n",
    "#  ['TEDxLagos', 'regionServed', 'Lagos'],\n",
    "#  ['Patrick_Utomi', 'residence', 'Lagos'],\n",
    "#  ['Dakuku_Peterside', 'residence', 'Lagos'],\n",
    "#  ['Mudashiru_Obasa', 'residence', 'Lagos']]\"\"\""
   ]
  },
  {
   "cell_type": "code",
   "execution_count": 12,
   "metadata": {},
   "outputs": [],
   "source": [
    "# lagos_86 = \"\"\"Lagos is located in Nigeria, and its inhabitants are known as Lagosians. The city's motto is 'Èkó ò ní bàjé o!' and it was founded by the Awori tribe. Lagos operates on West Africa Time, with a UTC offset of +1. The land area of Lagos covers 999.6 square kilometers, with the urban area measuring 907 square kilometers, while the metropolitan area spans 2,706.7 square kilometers. The total area of the city is 1,171.28 square kilometers. Lagos has a population of 8,048,430, with a population density of 6,871 people per square kilometer, while the metropolitan population reaches 21,320,000 with a metro density of 7,759 per square kilometer. The city's area code is 010.\n",
    "\n",
    "# The Atlantic Ocean and Lagos Lagoon are closest to Lagos. It is recognized as the largest city within the African Union, Nigeria, and during the Military dictatorship in Nigeria. Lagos has also served as the capital of Colonial Nigeria, the Federation of Nigeria, and the Lagos Colony. In Sub-Saharan Africa, Lagos is counted among its prominent cities.\n",
    "\n",
    "# Numerous institutions and organizations are based in Lagos, such as Benfruit Plant, the Nigerian Institute of Management, and Before 30. The city is also the foundation place of Dobox and IROKO Partners. Companies like Caritas Communications, the Nigerian Accounting Association, and Merchant Express Aviation have their headquarters in Lagos. The United Africa Company of Nigeria, Promasidor Nigeria, and G-Worldwide Entertainment are all located in the city. LADOL is also situated in Lagos. Lagos serves as the region for GIG Mobility and TEDxLagos, as well as for First Consultant Hospital and National Orthopaedic Hospital, Igbobi. Notable locations like the Benin-Ore-Shagamu Expressway, Encomium Magazine, and Bogobiri House are found here, and educational institutions such as Babington Macaulay Junior Seminary, Government College Ikorodu, and Ebun Oluwa Pro Veritas are located within Lagos State. Lagos is home to the grounds of MFM F.C., ACB Lagos F.C., and COD United F.C., and is associated with the assembly of vehicles like the Volkswagen Beetle, Volkswagen Jetta (A2), and Isuzu Forward. The city is known for significant buildings designed by Isaac Fola-Alade and Olufemi Majekodunmi, as well as a significant project by Isaac Fola-Alade. Music recordings such as 'Let Me Roll It', 'Mamunia', and 'Band on the Run' were recorded in Lagos. The city is notable for the historic Reduction of Lagos, and features as a target airport for airlines including Cally Air, Ibom Air, and Max Air, while also serving as a hub for ADC Airlines.\n",
    "\n",
    "# Lagos is the hometown of personalities such as Sasha P, Davina Oriakhi, and VanJess. It is likewise the birthplace of Cait O'Riordan, Candy Augustine Agbane, and Carol King the actress. The city is where figures like Amusa Shittu, Samuel Ajayi Crowther, and Samuel Johnson, the Nigerian historian, passed away. It is home to residents including Patrick Utomi, Dakuku Peterside, and Mudashiru Obasa. Individuals such as Olu Amoda and Toki Mabogunje are known for their connections to Lagos. The city is where Desmond Majekodunmi, Buchi Emecheta, and Habeeb Okunola received their education, and Juliet Ibrahim is among those who have received awards in Lagos.\"\"\"\n",
    "\n",
    "# print(lagos_86)"
   ]
  },
  {
   "cell_type": "code",
   "execution_count": 13,
   "metadata": {},
   "outputs": [],
   "source": [
    "# import json\n",
    "# from pathlib import Path\n",
    "\n",
    "# src_path = Path(\"results/webnlg.json\")\n",
    "# dst_path = Path(\"results/webnlg.txt\")\n",
    "\n",
    "# with src_path.open(encoding=\"utf-8\") as src, dst_path.open(\"w\", encoding=\"utf-8\") as dst:\n",
    "#     for lineno, line in enumerate(src, 1):\n",
    "#         line = line.strip()\n",
    "#         if not line:          # skip blank lines\n",
    "#             continue\n",
    "#         try:\n",
    "#             obj = json.loads(line)\n",
    "#         except json.JSONDecodeError as exc:\n",
    "#             print(f\"⚠️  skip line {lineno}: {exc}\")\n",
    "#             continue\n",
    "\n",
    "#         # Normalise whitespace: collapse any CR/LF runs to a single space\n",
    "#         pred = \" \".join(obj.get(\"prediction\", \"\").split())\n",
    "#         if pred:\n",
    "#             dst.write(pred + \"\\n\")\n",
    "\n",
    "# print(f\"Finished – cleaned predictions saved to {dst_path}\")\n"
   ]
  }
 ],
 "metadata": {
  "kernelspec": {
   "display_name": "lang2",
   "language": "python",
   "name": "python3"
  },
  "language_info": {
   "codemirror_mode": {
    "name": "ipython",
    "version": 3
   },
   "file_extension": ".py",
   "mimetype": "text/x-python",
   "name": "python",
   "nbconvert_exporter": "python",
   "pygments_lexer": "ipython3",
   "version": "3.10.6"
  }
 },
 "nbformat": 4,
 "nbformat_minor": 2
}
