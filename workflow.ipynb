{
 "cells": [
  {
   "cell_type": "code",
   "execution_count": 1,
   "metadata": {},
   "outputs": [
    {
     "name": "stderr",
     "output_type": "stream",
     "text": [
      "/home/chinonso/anaconda3/envs/lang2/lib/python3.10/site-packages/tqdm/auto.py:21: TqdmWarning: IProgress not found. Please update jupyter and ipywidgets. See https://ipywidgets.readthedocs.io/en/stable/user_install.html\n",
      "  from .autonotebook import tqdm as notebook_tqdm\n",
      "PyTorch version 2.8.0.dev20250515+cu128 available.\n"
     ]
    }
   ],
   "source": [
    "import os\n",
    "import json\n",
    "from typing import List, Literal, Optional, Text, Union, Dict, Any\n",
    "from IPython.display import Image, display\n",
    "from langchain_core.runnables.graph_mermaid import MermaidDrawMethod\n",
    "from agents.agents_modules.workflow import build_agent_workflow, workers_dict\n",
    "from agents.dataloader import load_dataset_by_name, extract_example"
   ]
  },
  {
   "cell_type": "code",
   "execution_count": 2,
   "metadata": {},
   "outputs": [],
   "source": [
    "def save_result_to_json(state: dict, filename: str = \"result.json\", directory: str = \"results\") -> None:\n",
    "    \"\"\"\n",
    "    Saves the given agent workflow state to a JSON file in a specified directory.\n",
    "\n",
    "    Args:\n",
    "        state (dict): The final state returned by the agent graph execution.\n",
    "        filename (str): The name of the JSON file to save.\n",
    "        directory (str): The directory where the file will be saved.\n",
    "\n",
    "    Raises:\n",
    "        IsADirectoryError: If the target file path is a directory.\n",
    "    \"\"\"\n",
    "\n",
    "    file_path = os.path.join(directory, filename)\n",
    "    os.makedirs(directory, exist_ok=True)\n",
    "\n",
    "    if os.path.isdir(file_path):\n",
    "        raise IsADirectoryError(f\"Cannot write to '{file_path}' because it is a directory.\")\n",
    "\n",
    "    # Recursively convert objects to serializable types\n",
    "    def make_serializable(obj):\n",
    "        if isinstance(obj, list):\n",
    "            return [make_serializable(x) for x in obj]\n",
    "        elif hasattr(obj, \"model_dump\"):  # Pydantic BaseModel\n",
    "            return obj.model_dump()\n",
    "        elif isinstance(obj, dict):\n",
    "            return {k: make_serializable(v) for k, v in obj.items()}\n",
    "        else:\n",
    "            return obj\n",
    "\n",
    "    serializable_state = make_serializable(dict(state))\n",
    "\n",
    "    with open(file_path, \"w\", encoding=\"utf-8\") as f:\n",
    "        json.dump(serializable_state, f, indent=4)\n",
    "\n",
    "    print(f\"Results saved to {file_path}\")\n"
   ]
  },
  {
   "cell_type": "code",
   "execution_count": 3,
   "metadata": {},
   "outputs": [
    {
     "name": "stdout",
     "output_type": "stream",
     "text": [
      "Loading dataset: totto\n",
      "\n",
      "Input: <page_title> List of Spanish regional legislatures </page_title> <section_title> Autonomous Communities </section_title> <table> <cell> Parliament of La Rioja Sp. Parlamento de La Rioja <col_header> Legislature name Local names </col_header> </cell> </table> \n",
      "\n",
      "Target: The Parliament of La Rioja (Spanish: Parlamento de La Rioja) is one of the autonomous communities of Spain. \n",
      "\n",
      "Ground Truth: ['The Parliament of La Rioja (Spanish: Parlamento de La Rioja) is one of the autonomous communities of Spain.', 'The Parliament of La Rioja (Spanish: Parlamento de La Rioja) is one of the autonomous communities of Spain.', 'The Parliament of La Rioja (Spanish: Parlamento de La Rioja) is one of the autonomous communities of Spain.']\n"
     ]
    }
   ],
   "source": [
    "name = \"totto\"  # Change this to the dataset you want to load\n",
    "num = 345 # Sample id\n",
    "\n",
    "data = load_dataset_by_name(name)\n",
    "sample = extract_example(name, data[\"validation\"][num])\n",
    "data = sample['input']\n",
    "ground_truth = sample['references']\n",
    "target = sample['target']\n",
    "\n",
    "query = f\"\"\"You are an agent designed to generate text from data for a data-to-text natural language generation. You can be provided data in the form of xml, table, meaning representations, graphs etc. \n",
    "Your task is to generate the appropriate text given the data information without omitting any field or adding extra information in essence called hallucination.\n",
    "Here is the data generate text using table data:\n",
    "{data}\"\"\"\n",
    "\n",
    "initial_state = {\n",
    "    \"input\": query,\n",
    "    \"raw_input\": data,\n",
    "    \"plan\": [],\n",
    "    \"result_steps\": [],\n",
    "    \"response\": \"\",\n",
    "    \"chat_history\": [],\n",
    "    \"next\": \"\",\n",
    "    \"next_input\": \"\",\n",
    "    \"agent_outcome\": \"\",\n",
    "    \"current_step\": 0,\n",
    "    \"team_iterations\": 0,\n",
    "    \"recursion_limit\": 60,\n",
    "}\n",
    "\n",
    "print(f\"\\nInput: {data} \\n\")\n",
    "print(f\"Target: {target} \\n\")\n",
    "print(f\"Ground Truth: {ground_truth}\")"
   ]
  },
  {
   "cell_type": "code",
   "execution_count": 4,
   "metadata": {},
   "outputs": [],
   "source": [
    "provider = \"openai\" #ollama, openai, hf, aixplain\n",
    "add_plan = False # True or False\n",
    "process_flow = build_agent_workflow(add_plan=add_plan, workers_dict=workers_dict, provider=provider)\n",
    "# display(Image(process_flow.get_graph(xray=True).draw_mermaid_png(draw_method=MermaidDrawMethod.PYPPETEER)))\n",
    "# display(Image(process_flow.get_graph(xray=True).draw_mermaid_png()))"
   ]
  },
  {
   "cell_type": "code",
   "execution_count": 5,
   "metadata": {},
   "outputs": [
    {
     "name": "stderr",
     "output_type": "stream",
     "text": [
      "HTTP Request: POST https://api.openai.com/v1/chat/completions \"HTTP/1.1 200 OK\"\n"
     ]
    },
    {
     "name": "stdout",
     "output_type": "stream",
     "text": [
      "ORCHESTRATOR OUTPUT:\n",
      "Thought: The user has provided a request to generate text based on the provided data related to the 'List of Spanish regional legislatures'. The data is shown in a table format, and the relevant content that needs to be sequenced correctly includes the 'Legislature name' and 'Local names'. We need to assign the content ordering worker to properly sequence these pieces of information before moving to the next steps in the pipeline. \n",
      "\n",
      "Worker: content ordering\n",
      "Worker Input: The data provided is as follows:\n",
      "<page_title> List of Spanish regional legislatures </page_title> \n",
      "<section_title> Autonomous Communities </section_title> \n",
      "<table> \n",
      "<cell> Parliament of La Rioja Sp. Parlamento de La Rioja </cell> \n",
      "<col_header> Legislature name Local names </col_header> \n",
      "</table>\n",
      "\n",
      "Your task is to sequence the relevant data fields as they should appear in the final text, focusing on the 'Legislature name' followed by 'Local names'.\n",
      "\n",
      "\n",
      "\n",
      "\u001b[1m> Entering new AgentExecutor chain...\u001b[0m\n"
     ]
    },
    {
     "name": "stderr",
     "output_type": "stream",
     "text": [
      "HTTP Request: POST https://api.openai.com/v1/chat/completions \"HTTP/1.1 200 OK\"\n"
     ]
    },
    {
     "name": "stdout",
     "output_type": "stream",
     "text": [
      "\u001b[32;1m\u001b[1;3m```\n",
      "{\n",
      "  \"action\": \"Final Answer\",\n",
      "  \"action_input\": \"<page_title> List of Spanish regional legislatures </page_title> <section_title> Autonomous Communities </section_title> <table> <col_header> Legislature name Local names </col_header> <cell> Parliament of La Rioja Sp. Parlamento de La Rioja </cell> </table>\"\n",
      "}\n",
      "```\u001b[0m\n",
      "\n",
      "\u001b[1m> Finished chain.\u001b[0m\n",
      "WORKER: {'input': \"The data provided is as follows:\\n<page_title> List of Spanish regional legislatures </page_title> \\n<section_title> Autonomous Communities </section_title> \\n<table> \\n<cell> Parliament of La Rioja Sp. Parlamento de La Rioja </cell> \\n<col_header> Legislature name Local names </col_header> \\n</table>\\n\\nYour task is to sequence the relevant data fields as they should appear in the final text, focusing on the 'Legislature name' followed by 'Local names'.\", 'output': '<page_title> List of Spanish regional legislatures </page_title> <section_title> Autonomous Communities </section_title> <table> <col_header> Legislature name Local names </col_header> <cell> Parliament of La Rioja Sp. Parlamento de La Rioja </cell> </table>'}\n",
      "\n"
     ]
    },
    {
     "name": "stderr",
     "output_type": "stream",
     "text": [
      "HTTP Request: POST https://api.openai.com/v1/chat/completions \"HTTP/1.1 200 OK\"\n"
     ]
    },
    {
     "name": "stdout",
     "output_type": "stream",
     "text": [
      "INSPECTOR: The output does not correctly reflect the required content ordering. The 'Legislature name' should precede the 'Local names' in the cell, but it appears combined in a single cell without proper separation.\n"
     ]
    },
    {
     "name": "stderr",
     "output_type": "stream",
     "text": [
      "HTTP Request: POST https://api.openai.com/v1/chat/completions \"HTTP/1.1 200 OK\"\n"
     ]
    },
    {
     "name": "stdout",
     "output_type": "stream",
     "text": [
      "ORCHESTRATOR OUTPUT:\n",
      "Thought: The content ordering worker has mistakenly placed the column header and the cell in the wrong order and included both in the output instead of just ordering the fields. The feedback indicates that the worker should only sequence the relevant data field components, specifically, the 'Legislature name' followed by 'Local names', without any additional HTML tags or structures. I will reassign the content ordering task to correct this mistake.\n",
      "\n",
      "Worker: content ordering\n",
      "Worker Input: \n",
      "'The data provided is as follows:\n",
      "<page_title> List of Spanish regional legislatures </page_title> \n",
      "<section_title> Autonomous Communities </section_title> \n",
      "<table> \n",
      "<cell> Parliament of La Rioja Sp. Parlamento de La Rioja </cell> \n",
      "<col_header> Legislature name Local names </col_header> \n",
      "</table>\n",
      "\n",
      "Your task is to sequence the relevant data fields correctly for the final text generation. The correct sequence should only include the 'Legislature name' followed by 'Local names', presented in a clear format without extra HTML tags. Please provide the ordered content.'\n",
      "\n",
      "\n",
      "\n",
      "\u001b[1m> Entering new AgentExecutor chain...\u001b[0m\n"
     ]
    },
    {
     "name": "stderr",
     "output_type": "stream",
     "text": [
      "HTTP Request: POST https://api.openai.com/v1/chat/completions \"HTTP/1.1 200 OK\"\n"
     ]
    },
    {
     "name": "stdout",
     "output_type": "stream",
     "text": [
      "\u001b[32;1m\u001b[1;3m```\n",
      "{\n",
      "  \"action\": \"Final Answer\",\n",
      "  \"action_input\": \"Parliament of La Rioja Sp. Parlamento de La Rioja\"\n",
      "}\n",
      "```\u001b[0m\n",
      "\n",
      "\u001b[1m> Finished chain.\u001b[0m\n",
      "WORKER: {'input': \"'The data provided is as follows:\\n<page_title> List of Spanish regional legislatures </page_title> \\n<section_title> Autonomous Communities </section_title> \\n<table> \\n<cell> Parliament of La Rioja Sp. Parlamento de La Rioja </cell> \\n<col_header> Legislature name Local names </col_header> \\n</table>\\n\\nYour task is to sequence the relevant data fields correctly for the final text generation. The correct sequence should only include the 'Legislature name' followed by 'Local names', presented in a clear format without extra HTML tags. Please provide the ordered content.'\", 'output': 'Parliament of La Rioja Sp. Parlamento de La Rioja'}\n",
      "\n"
     ]
    },
    {
     "name": "stderr",
     "output_type": "stream",
     "text": [
      "HTTP Request: POST https://api.openai.com/v1/chat/completions \"HTTP/1.1 200 OK\"\n"
     ]
    },
    {
     "name": "stdout",
     "output_type": "stream",
     "text": [
      "INSPECTOR: The worker's output is correct as it successfully sequenced the relevant data fields 'Legislature name' followed by 'Local names' without any additional HTML tags or structures.\n"
     ]
    },
    {
     "name": "stderr",
     "output_type": "stream",
     "text": [
      "HTTP Request: POST https://api.openai.com/v1/chat/completions \"HTTP/1.1 200 OK\"\n"
     ]
    },
    {
     "name": "stdout",
     "output_type": "stream",
     "text": [
      "ORCHESTRATOR OUTPUT:\n",
      "Thought: The content ordering step has been completed successfully as the worker provided the relevant data in the correct sequence. The next step in the process is 'text structuring', which will group the ordered content into coherent sentence-level units based on the structured output provided. \n",
      "\n",
      "Worker: text structuring\n",
      "Worker Input: \n",
      "'The data provided is as follows:\n",
      "<page_title> List of Spanish regional legislatures </page_title> \n",
      "<section_title> Autonomous Communities </section_title> \n",
      "Ordered Content: Parliament of La Rioja Sp. Parlamento de La Rioja\n",
      "\n",
      "Your task is to group the ordered content into coherent sentence-level units, creating a clear output that reflects the information provided.'\n",
      "\n",
      "\n",
      "\n",
      "\u001b[1m> Entering new AgentExecutor chain...\u001b[0m\n"
     ]
    },
    {
     "name": "stderr",
     "output_type": "stream",
     "text": [
      "HTTP Request: POST https://api.openai.com/v1/chat/completions \"HTTP/1.1 200 OK\"\n"
     ]
    },
    {
     "name": "stdout",
     "output_type": "stream",
     "text": [
      "\u001b[32;1m\u001b[1;3mAction:\n",
      "```\n",
      "{\n",
      "  \"action\": \"Final Answer\",\n",
      "  \"action_input\": \"<snt>The data provided is as follows:</snt><snt>List of Spanish regional legislatures</snt><snt>Section Title: Autonomous Communities</snt><snt>Parliament of La Rioja: Parlamento de La Rioja</snt>\"\n",
      "}\n",
      "```\u001b[0m\n",
      "\n",
      "\u001b[1m> Finished chain.\u001b[0m\n",
      "WORKER: {'input': \"'The data provided is as follows:\\n<page_title> List of Spanish regional legislatures </page_title> \\n<section_title> Autonomous Communities </section_title> \\nOrdered Content: Parliament of La Rioja Sp. Parlamento de La Rioja\\n\\nYour task is to group the ordered content into coherent sentence-level units, creating a clear output that reflects the information provided.'\", 'output': '<snt>The data provided is as follows:</snt><snt>List of Spanish regional legislatures</snt><snt>Section Title: Autonomous Communities</snt><snt>Parliament of La Rioja: Parlamento de La Rioja</snt>'}\n",
      "\n"
     ]
    },
    {
     "name": "stderr",
     "output_type": "stream",
     "text": [
      "HTTP Request: POST https://api.openai.com/v1/chat/completions \"HTTP/1.1 200 OK\"\n"
     ]
    },
    {
     "name": "stdout",
     "output_type": "stream",
     "text": [
      "INSPECTOR: CORRECT\n"
     ]
    },
    {
     "name": "stderr",
     "output_type": "stream",
     "text": [
      "HTTP Request: POST https://api.openai.com/v1/chat/completions \"HTTP/1.1 200 OK\"\n"
     ]
    },
    {
     "name": "stdout",
     "output_type": "stream",
     "text": [
      "ORCHESTRATOR OUTPUT:\n",
      "Thought: The text structuring worker has produced a response, but the inspector feedback indicates it should be reviewed. The content needs to be more coherent and should have fewer sentence fragments. The primary goal is to clearly delineate the information without added complexity. I will reassign the task to the 'text structuring' worker to better organize the output into fluent sentences.\n",
      "\n",
      "Worker: text structuring\n",
      "Worker Input: \n",
      "''The data provided is as follows:\n",
      "<page_title> List of Spanish regional legislatures </page_title> \n",
      "<section_title> Autonomous Communities </section_title> \n",
      "Ordered Content: Parliament of La Rioja Sp. Parlamento de La Rioja\n",
      "\n",
      "Your task is to group the ordered content into coherent sentence-level units. Ensure that the output reflects the information provided in a clear, concise manner, avoiding fragments. Please provide the structured text in a way that is easy to understand.''\n",
      "\n",
      "\n",
      "\n",
      "\u001b[1m> Entering new AgentExecutor chain...\u001b[0m\n"
     ]
    },
    {
     "name": "stderr",
     "output_type": "stream",
     "text": [
      "HTTP Request: POST https://api.openai.com/v1/chat/completions \"HTTP/1.1 200 OK\"\n"
     ]
    },
    {
     "name": "stdout",
     "output_type": "stream",
     "text": [
      "\u001b[32;1m\u001b[1;3m```\n",
      "{\n",
      "  \"action\": \"Final Answer\",\n",
      "  \"action_input\": \"<page_title> List of Spanish regional legislatures </page_title> <section_title> Autonomous Communities </section_title> <snt> Parliament of La Rioja </snt> <snt> Sp. Parlamento de La Rioja </snt>\"\n",
      "}\n",
      "```\u001b[0m\n",
      "\n",
      "\u001b[1m> Finished chain.\u001b[0m\n",
      "WORKER: {'input': \"''The data provided is as follows:\\n<page_title> List of Spanish regional legislatures </page_title> \\n<section_title> Autonomous Communities </section_title> \\nOrdered Content: Parliament of La Rioja Sp. Parlamento de La Rioja\\n\\nYour task is to group the ordered content into coherent sentence-level units. Ensure that the output reflects the information provided in a clear, concise manner, avoiding fragments. Please provide the structured text in a way that is easy to understand.''\", 'output': '<page_title> List of Spanish regional legislatures </page_title> <section_title> Autonomous Communities </section_title> <snt> Parliament of La Rioja </snt> <snt> Sp. Parlamento de La Rioja </snt>'}\n",
      "\n"
     ]
    },
    {
     "name": "stderr",
     "output_type": "stream",
     "text": [
      "HTTP Request: POST https://api.openai.com/v1/chat/completions \"HTTP/1.1 200 OK\"\n"
     ]
    },
    {
     "name": "stdout",
     "output_type": "stream",
     "text": [
      "INSPECTOR: The output contains sentence fragments and does not provide coherent sentence-level units as instructed. It should combine the content into complete sentences for better clarity and understanding.\n"
     ]
    },
    {
     "name": "stderr",
     "output_type": "stream",
     "text": [
      "HTTP Request: POST https://api.openai.com/v1/chat/completions \"HTTP/1.1 200 OK\"\n"
     ]
    },
    {
     "name": "stdout",
     "output_type": "stream",
     "text": [
      "ORCHESTRATOR OUTPUT:\n",
      "Thought: The output from the text structuring worker didn't effectively group the ordered content into coherent sentence-level units. Instead, the worker kept the original element structure and split the content into fragments, which doesn't adhere to the task requirements. I need to reassign the task to the same worker to create a clear and complete structured text that includes the ordered content in a continuous narrative format.\n",
      "\n",
      "Worker: text structuring\n",
      "Worker Input: \n",
      "''The data provided is as follows:\n",
      "<page_title> List of Spanish regional legislatures </page_title> \n",
      "<section_title> Autonomous Communities </section_title> \n",
      "Ordered Content: Parliament of La Rioja Sp. Parlamento de La Rioja\n",
      "\n",
      "Your task is to group the ordered content into coherent sentence-level units. The output should be formatted as a single, well-structured sentence or closely related sentences that articulate the information clearly, preserving the context of the data without introducing any fragments or unnecessary structure.''\n",
      "\n",
      "\n",
      "\n",
      "\u001b[1m> Entering new AgentExecutor chain...\u001b[0m\n"
     ]
    },
    {
     "name": "stderr",
     "output_type": "stream",
     "text": [
      "HTTP Request: POST https://api.openai.com/v1/chat/completions \"HTTP/1.1 200 OK\"\n"
     ]
    },
    {
     "name": "stdout",
     "output_type": "stream",
     "text": [
      "\u001b[32;1m\u001b[1;3mAction:\n",
      "```\n",
      "{\n",
      "  \"action\": \"Final Answer\",\n",
      "  \"action_input\": \"<snt>The data provided is as follows: <page_title>List of Spanish regional legislatures</page_title> <section_title>Autonomous Communities</section_title> <snt>Parliament of La Rioja is known in Spanish as Parlamento de La Rioja.</snt></snt>\"\n",
      "}\n",
      "```\u001b[0m\n",
      "\n",
      "\u001b[1m> Finished chain.\u001b[0m\n",
      "WORKER: {'input': \"''The data provided is as follows:\\n<page_title> List of Spanish regional legislatures </page_title> \\n<section_title> Autonomous Communities </section_title> \\nOrdered Content: Parliament of La Rioja Sp. Parlamento de La Rioja\\n\\nYour task is to group the ordered content into coherent sentence-level units. The output should be formatted as a single, well-structured sentence or closely related sentences that articulate the information clearly, preserving the context of the data without introducing any fragments or unnecessary structure.''\", 'output': '<snt>The data provided is as follows: <page_title>List of Spanish regional legislatures</page_title> <section_title>Autonomous Communities</section_title> <snt>Parliament of La Rioja is known in Spanish as Parlamento de La Rioja.</snt></snt>'}\n",
      "\n"
     ]
    },
    {
     "name": "stderr",
     "output_type": "stream",
     "text": [
      "HTTP Request: POST https://api.openai.com/v1/chat/completions \"HTTP/1.1 200 OK\"\n"
     ]
    },
    {
     "name": "stdout",
     "output_type": "stream",
     "text": [
      "INSPECTOR: The output includes unnecessary repeated tags, which disrupts the coherence of the text. While it attempts to structure the information into a sentence, the repetition of the \"<snt>\" tag indicates a formatting issue rather than a clear and complete narrative.\n"
     ]
    },
    {
     "name": "stderr",
     "output_type": "stream",
     "text": [
      "HTTP Request: POST https://api.openai.com/v1/chat/completions \"HTTP/1.1 200 OK\"\n"
     ]
    },
    {
     "name": "stdout",
     "output_type": "stream",
     "text": [
      "ORCHESTRATOR OUTPUT:\n",
      "Thought: The text structuring worker's last output incorporates too much extraneous structure and fails to present the information in a clear and concise manner. It should focus on a straightforward presentation of the primary data without added tags that complicate the sentence. I will reassign the task to the text structuring worker with a revised prompt to ensure clarity and coherence in the output.\n",
      "\n",
      "Worker: text structuring\n",
      "Worker Input: '''The data provided is as follows:\n",
      "<page_title> List of Spanish regional legislatures </page_title> \n",
      "<section_title> Autonomous Communities </section_title> \n",
      "Ordered Content: Parliament of La Rioja Sp. Parlamento de La Rioja\n",
      "\n",
      "Your task is to group the ordered content into a coherent, single sentence that clearly expresses the information without extra structure or fragments. Focus on providing a straightforward statement that maintains the integrity of the data presented.''\n",
      "\n",
      "\n",
      "\n",
      "\u001b[1m> Entering new AgentExecutor chain...\u001b[0m\n"
     ]
    },
    {
     "name": "stderr",
     "output_type": "stream",
     "text": [
      "HTTP Request: POST https://api.openai.com/v1/chat/completions \"HTTP/1.1 200 OK\"\n"
     ]
    },
    {
     "name": "stdout",
     "output_type": "stream",
     "text": [
      "\u001b[32;1m\u001b[1;3m```\n",
      "{\n",
      "  \"action\": \"Final Answer\",\n",
      "  \"action_input\": \"<snt>The Parliament of La Rioja, also known as Parlamento de La Rioja, is part of the Spanish regional legislatures.</snt>\"\n",
      "}\n",
      "```\u001b[0m\n",
      "\n",
      "\u001b[1m> Finished chain.\u001b[0m\n",
      "WORKER: {'input': \"'''The data provided is as follows:\\n<page_title> List of Spanish regional legislatures </page_title> \\n<section_title> Autonomous Communities </section_title> \\nOrdered Content: Parliament of La Rioja Sp. Parlamento de La Rioja\\n\\nYour task is to group the ordered content into a coherent, single sentence that clearly expresses the information without extra structure or fragments. Focus on providing a straightforward statement that maintains the integrity of the data presented.''\", 'output': '<snt>The Parliament of La Rioja, also known as Parlamento de La Rioja, is part of the Spanish regional legislatures.</snt>'}\n",
      "\n"
     ]
    },
    {
     "name": "stderr",
     "output_type": "stream",
     "text": [
      "HTTP Request: POST https://api.openai.com/v1/chat/completions \"HTTP/1.1 200 OK\"\n"
     ]
    },
    {
     "name": "stdout",
     "output_type": "stream",
     "text": [
      "INSPECTOR: CORRECT\n"
     ]
    },
    {
     "name": "stderr",
     "output_type": "stream",
     "text": [
      "HTTP Request: POST https://api.openai.com/v1/chat/completions \"HTTP/1.1 200 OK\"\n"
     ]
    },
    {
     "name": "stdout",
     "output_type": "stream",
     "text": [
      "ORCHESTRATOR OUTPUT:\n",
      "Thought: The last worker successfully structured the content into a coherent sentence that expresses the information clearly and accurately. Since the output meets the expectations of the task, I will move on to the next step in the pipeline, which is surface realization. \n",
      "\n",
      "Worker: surface realization\n",
      "Worker Input: '''The data provided is as follows:\n",
      "<page_title> List of Spanish regional legislatures </page_title> \n",
      "<section_title> Autonomous Communities </section_title> \n",
      "Ordered Content: Parliament of La Rioja Sp. Parlamento de La Rioja\n",
      "Structured Text: The Parliament of La Rioja, also known as Parlamento de La Rioja, is part of the Spanish regional legislatures.\n",
      "\n",
      "Your task is to transform the structured content into fluent, factually accurate natural language, ensuring the final output is polished and adheres to standard language conventions, with no omitted or added information. Please produce the final text output.' '''\n",
      "\n",
      "\n",
      "\n",
      "\u001b[1m> Entering new AgentExecutor chain...\u001b[0m\n"
     ]
    },
    {
     "name": "stderr",
     "output_type": "stream",
     "text": [
      "HTTP Request: POST https://api.openai.com/v1/chat/completions \"HTTP/1.1 200 OK\"\n"
     ]
    },
    {
     "name": "stdout",
     "output_type": "stream",
     "text": [
      "\u001b[32;1m\u001b[1;3m```\n",
      "{\n",
      "  \"action\": \"Final Answer\",\n",
      "  \"action_input\": \"The Parliament of La Rioja, also known as Parlamento de La Rioja, is part of the Spanish regional legislatures.\"\n",
      "}\n",
      "```\u001b[0m\n",
      "\n",
      "\u001b[1m> Finished chain.\u001b[0m\n",
      "WORKER: {'input': \"'''The data provided is as follows:\\n<page_title> List of Spanish regional legislatures </page_title> \\n<section_title> Autonomous Communities </section_title> \\nOrdered Content: Parliament of La Rioja Sp. Parlamento de La Rioja\\nStructured Text: The Parliament of La Rioja, also known as Parlamento de La Rioja, is part of the Spanish regional legislatures.\\n\\nYour task is to transform the structured content into fluent, factually accurate natural language, ensuring the final output is polished and adheres to standard language conventions, with no omitted or added information. Please produce the final text output.' '''\", 'output': 'The Parliament of La Rioja, also known as Parlamento de La Rioja, is part of the Spanish regional legislatures.'}\n"
     ]
    },
    {
     "name": "stderr",
     "output_type": "stream",
     "text": [
      "Fetching 5 files: 100%|██████████| 5/5 [00:00<00:00, 38060.83it/s]\n",
      "Lightning automatically upgraded your loaded checkpoint from v1.8.2 to v2.5.1.post0. To apply the upgrade to your files permanently, run `python -m pytorch_lightning.utilities.upgrade_checkpoint ../.cache/huggingface/hub/models--Unbabel--wmt22-cometkiwi-da/snapshots/1ad785194e391eebc6c53e2d0776cada8f83179a/checkpoints/model.ckpt`\n",
      "Encoder model frozen.\n",
      "/home/chinonso/anaconda3/envs/lang2/lib/python3.10/site-packages/pytorch_lightning/core/saving.py:195: Found keys that are not in the model state dict but in the checkpoint: ['encoder.model.embeddings.position_ids']\n",
      "Using default `ModelCheckpoint`. Consider installing `litmodels` package to enable `LitModelCheckpoint` for automatic upload to the Lightning model registry.\n",
      "GPU available: True (cuda), used: False\n",
      "TPU available: False, using: 0 TPU cores\n",
      "HPU available: False, using: 0 HPUs\n",
      "/home/chinonso/anaconda3/envs/lang2/lib/python3.10/site-packages/pytorch_lightning/trainer/setup.py:177: GPU available but not used. You can set it by doing `Trainer(accelerator='gpu')`.\n",
      "Predicting DataLoader 0: 100%|██████████| 1/1 [00:01<00:00,  1.48s/it]\n"
     ]
    },
    {
     "name": "stdout",
     "output_type": "stream",
     "text": [
      "Metric Evaluation Result: 0.358\n"
     ]
    },
    {
     "name": "stderr",
     "output_type": "stream",
     "text": [
      "HTTP Request: POST https://api.openai.com/v1/chat/completions \"HTTP/1.1 200 OK\"\n"
     ]
    },
    {
     "name": "stdout",
     "output_type": "stream",
     "text": [
      "INSPECTOR: The worker's output is correct in terms of content and accurate reflection of the input. However, the metric evaluation result of 0.358 is below the average threshold of 0.6, indicating that the output may not meet the quality expectations required for the task.\n"
     ]
    },
    {
     "name": "stderr",
     "output_type": "stream",
     "text": [
      "HTTP Request: POST https://api.openai.com/v1/chat/completions \"HTTP/1.1 200 OK\"\n"
     ]
    },
    {
     "name": "stdout",
     "output_type": "stream",
     "text": [
      "AGGREGATOR: The Parliament of La Rioja, also known as Parlamento de La Rioja, is part of the Spanish regional legislatures.\n"
     ]
    }
   ],
   "source": [
    "state = process_flow.invoke(initial_state, config={\"recursion_limit\": initial_state[\"recursion_limit\"]})\n",
    "prediction = state['response']"
   ]
  },
  {
   "cell_type": "code",
   "execution_count": 6,
   "metadata": {},
   "outputs": [
    {
     "name": "stdout",
     "output_type": "stream",
     "text": [
      "Results saved to results/totto_345_False.json\n"
     ]
    }
   ],
   "source": [
    "save_result_to_json(state, filename=f\"{name}_{num}_{add_plan}.json\")"
   ]
  },
  {
   "cell_type": "code",
   "execution_count": 7,
   "metadata": {},
   "outputs": [
    {
     "data": {
      "text/plain": [
       "'The Parliament of La Rioja, also known as Parlamento de La Rioja, is part of the Spanish regional legislatures.'"
      ]
     },
     "execution_count": 7,
     "metadata": {},
     "output_type": "execute_result"
    }
   ],
   "source": [
    "prediction"
   ]
  },
  {
   "cell_type": "code",
   "execution_count": 8,
   "metadata": {},
   "outputs": [
    {
     "data": {
      "text/plain": [
       "['The Parliament of La Rioja (Spanish: Parlamento de La Rioja) is one of the autonomous communities of Spain.',\n",
       " 'The Parliament of La Rioja (Spanish: Parlamento de La Rioja) is one of the autonomous communities of Spain.',\n",
       " 'The Parliament of La Rioja (Spanish: Parlamento de La Rioja) is one of the autonomous communities of Spain.']"
      ]
     },
     "execution_count": 8,
     "metadata": {},
     "output_type": "execute_result"
    }
   ],
   "source": [
    "ground_truth"
   ]
  },
  {
   "cell_type": "code",
   "execution_count": 9,
   "metadata": {},
   "outputs": [
    {
     "data": {
      "text/plain": [
       "'The Parliament of La Rioja (Spanish: Parlamento de La Rioja) is one of the autonomous communities of Spain.'"
      ]
     },
     "execution_count": 9,
     "metadata": {},
     "output_type": "execute_result"
    }
   ],
   "source": [
    "target"
   ]
  },
  {
   "cell_type": "code",
   "execution_count": 10,
   "metadata": {},
   "outputs": [
    {
     "ename": "NameError",
     "evalue": "name 'llm' is not defined",
     "output_type": "error",
     "traceback": [
      "\u001b[0;31m---------------------------------------------------------------------------\u001b[0m",
      "\u001b[0;31mNameError\u001b[0m                                 Traceback (most recent call last)",
      "Cell \u001b[0;32mIn[10], line 1\u001b[0m\n\u001b[0;32m----> 1\u001b[0m \u001b[43mllm\u001b[49m\u001b[38;5;241m.\u001b[39mid\n",
      "\u001b[0;31mNameError\u001b[0m: name 'llm' is not defined"
     ]
    }
   ],
   "source": [
    "llm.id"
   ]
  },
  {
   "cell_type": "code",
   "execution_count": null,
   "metadata": {},
   "outputs": [],
   "source": [
    "# from datasets import load_dataset\n",
    "\n",
    "# rotowire = load_dataset(\"mrm8488/rotowire-sbnation\")\n",
    "# turku_hockey = datasets.load_dataset('GEM/turku_hockey_data2text')\n",
    "# totto = datasets.load_dataset('GEM/totto')\n",
    "# basketball = datasets.load_dataset('GEM/sportsett_basketball')\n",
    "# webnlg = datasets.load_dataset('GEM/web_nlg', 'en')\n",
    "# weather = datasets.load_dataset('GEM/conversational_weather')\n",
    "# dart = datasets.load_dataset('GEM/dart')\n",
    "# mlb = datasets.load_dataset('GEM/mlb_data_to_text')"
   ]
  },
  {
   "cell_type": "code",
   "execution_count": null,
   "metadata": {},
   "outputs": [],
   "source": []
  },
  {
   "cell_type": "code",
   "execution_count": null,
   "metadata": {},
   "outputs": [],
   "source": []
  },
  {
   "cell_type": "code",
   "execution_count": null,
   "metadata": {},
   "outputs": [],
   "source": []
  }
 ],
 "metadata": {
  "kernelspec": {
   "display_name": "lang2",
   "language": "python",
   "name": "python3"
  },
  "language_info": {
   "codemirror_mode": {
    "name": "ipython",
    "version": 3
   },
   "file_extension": ".py",
   "mimetype": "text/x-python",
   "name": "python",
   "nbconvert_exporter": "python",
   "pygments_lexer": "ipython3",
   "version": "3.10.6"
  }
 },
 "nbformat": 4,
 "nbformat_minor": 2
}
